{
 "cells": [
  {
   "cell_type": "code",
   "execution_count": 174,
   "metadata": {},
   "outputs": [
    {
     "name": "stdout",
     "output_type": "stream",
     "text": [
      "['{\"title\": \"Apple Avocado Salad with Tangerine Dressing\", \"submitter\": \"Donna Smally\", \"description\": \"This easy salad is perfect for a hot day and it is very filling. You wouldn\\'t think this mixture of apples, avocados, blue cheese, and tangerine dressing would go together, but it\\'s wonderful!\", \"calories\": \"144\", \"ingredients\": [{\"step\": \"1 (10 ounce) package baby greens\"}, {\"step\": \"1/4 cup chopped red onion\"}, {\"step\": \"1/2 cup chopped walnuts\"}, {\"step\": \"1/3 cup crumbled blue cheese\"}, {\"step\": \"2 teaspoons lemon zest\"}, {\"step\": \"1 apple - peeled, cored and sliced\"}, {\"step\": \"1 avocado - peeled, pitted and diced\"}, {\"step\": \"4 mandarin oranges, juiced\"}, {\"step\": \"1/2 lemon, juiced\"}, {\"step\": \"1/2 teaspoon lemon zest\"}, {\"step\": \"1 clove garlic, minced\"}, {\"step\": \"2 tablespoons olive oil\"}, {\"step\": \"salt to taste\"}]}', '{\"title\": \"All-American Loaded Baked Potato Salad\", \"submitter\": \"spicejenmom\", \"description\": \"This is a great twist on two all-American favorites--the potato salad and the loaded baked potato. Served cold, this has been a crowd-pleaser at our many family functions and is often requested. Even people who don\\'t normally love potato salad seem to love this!\", \"calories\": \"434\", \"ingredients\": [{\"step\": \"6 cups cubed russet potatoes\"}, {\"step\": \"1 teaspoon salt\"}, {\"step\": \"1 cup sour cream\"}, {\"step\": \"1 cup creamy salad dressing (such as Miracle Whip\\\\u00ae)\"}, {\"step\": \"1/2 teaspoon coarse ground black pepper\"}, {\"step\": \"1 cup shredded Cheddar cheese\"}, {\"step\": \"1/2 cup chopped green onions\"}, {\"step\": \"1/2 cup real bacon bits\"}]}', '{\"title\": \"Israeli Tomato and Cucumber Salad\", \"submitter\": \"mimitomany\", \"description\": \"Chopped tomatoes, cucumbers, onions, and parsley combine with a drizzled dressing of lemon juice, olive oil, garlic, and mint leaves.\", \"calories\": \"208\", \"ingredients\": [{\"step\": \"Salad:\"}, {\"step\": \"4 English cucumbers, diced\"}, {\"step\": \"4 Roma (plum) tomatoes, seeded and diced\"}, {\"step\": \"1/2 purple onion, diced\"}, {\"step\": \"1 red bell pepper, seeded and diced\"}, {\"step\": \"2 tablespoons chopped garlic\"}, {\"step\": \"1 cup chopped fresh parsley\"}, {\"step\": \"3 tablespoons chopped fresh mint\"}, {\"step\": \"Dressing:\"}, {\"step\": \"1/2 cup olive oil\"}, {\"step\": \"2 tablespoons fresh lemon juice\"}, {\"step\": \"1 tablespoon kosher salt\"}, {\"step\": \"1 tablespoon ground black pepper\"}]}', '{\"title\": \"Watermelon Basil Salad\", \"submitter\": \"Chefthompson.com\", \"description\": \"A quick salad of watermelon and basil. The chili powder plays well with the sweetness of the melon.\", \"calories\": \"10\", \"ingredients\": [{\"step\": \"1/4 cup basil leaves\"}, {\"step\": \"4 cups 1/2-inch cubes watermelon\"}, {\"step\": \"2 teaspoons lemon juice\"}, {\"step\": \"1/4 teaspoon kosher salt\"}, {\"step\": \"1/4 teaspoon chili powder\"}]}', '{\"title\": \"Mediterranean Zucchini \\'Pasta\\' Salad\", \"submitter\": \"Cindy Anschutz Barbieri\", \"description\": \"The perfect \\'pasta\\' salad for summer!\", \"calories\": \"303\", \"ingredients\": [{\"step\": \"1 (10 ounce) can artichoke hearts, drained and chopped\"}, {\"step\": \"1 cup cherry tomatoes, halved\"}, {\"step\": \"1/2 cup pitted Kalamata olives, halved\"}, {\"step\": \"3 zucchini, spiralized\"}, {\"step\": \"2 lemons, juiced\"}, {\"step\": \"1/4 cup extra-virgin olive oil\"}, {\"step\": \"2 tablespoons chopped parsley\"}, {\"step\": \"1 tablespoon white vinegar\"}, {\"step\": \"2 cloves garlic, minced\"}, {\"step\": \"2 teaspoons dried oregano\"}, {\"step\": \"1 teaspoon kosher salt\"}, {\"step\": \"1 lemon, zested\"}, {\"step\": \"1/2 teaspoon ground black pepper\"}, {\"step\": \"1/4 cup crumbled goat milk feta cheese, or to taste\"}]}', '{\"title\": \"Blueberry Walnut Salad\", \"submitter\": \"MARASADIE\", \"description\": \"An easy, yummy salad, perfect for any season, with berries, nuts, and greens. For an entree add chicken, diced apples, and diced green onions!\", \"calories\": \"128\", \"ingredients\": [{\"step\": \"1 (10 ounce) package mixed salad greens\"}, {\"step\": \"1 pint fresh blueberries\"}, {\"step\": \"1/4 cup walnuts\"}, {\"step\": \"1/2 cup raspberry vinaigrette salad dressing\"}, {\"step\": \"1/4 cup crumbled feta cheese\"}]}', '{\"title\": \"Lentil Salad with a Persian Twist\", \"submitter\": \"NOOSH\", \"description\": \"A refreshing salad made with diced vegetables and lentils, perfect for a side dish or on its own. To add more freshness, add chopped mint to the salad.\", \"calories\": \"159\", \"ingredients\": [{\"step\": \"1 (15 ounce) can lentils, drained and rinsed\"}, {\"step\": \"1 red onion, diced\"}, {\"step\": \"2 tomatoes, diced\"}, {\"step\": \"2 small cucumbers, diced\"}, {\"step\": \"1/4 cup olive oil\"}, {\"step\": \"2 tablespoons apple cider vinegar\"}, {\"step\": \"2 tablespoons fresh lime juice\"}, {\"step\": \"salt and ground black pepper to taste\"}]}', '{\"title\": \"Awesome Pasta Salad\", \"submitter\": \"Irlandes\", \"description\": \"This is the best pasta salad I\\'ve ever eaten, and people request it frequently. It\\'s a very easy, light-tasting side dish for a picnic or dinner.\", \"calories\": \"310\", \"ingredients\": [{\"step\": \"1 (16 ounce) package fusilli (spiral) pasta\"}, {\"step\": \"3 cups cherry tomatoes, halved\"}, {\"step\": \"1/2 pound provolone cheese, cubed\"}, {\"step\": \"1/2 pound salami, cubed\"}, {\"step\": \"1/4 pound sliced pepperoni, cut in half\"}, {\"step\": \"1 large green bell pepper, cut into 1 inch pieces\"}, {\"step\": \"1 (10 ounce) can black olives, drained\"}, {\"step\": \"1 (4 ounce) jar pimentos, drained\"}, {\"step\": \"1 (8 ounce) bottle Italian salad dressing\"}]}', '{\"title\": \"Mediterranean Greek Salad\", \"submitter\": \"Heather\", \"description\": \"This is a great salad to take to a barbeque. All ingredients are approximate, so add more or less of any ingredient depending on your own taste.\", \"calories\": \"131\", \"ingredients\": [{\"step\": \"3 cucumbers, seeded and sliced\"}, {\"step\": \"1 1/2 cups crumbled feta cheese\"}, {\"step\": \"1 cup black olives, pitted and sliced\"}, {\"step\": \"3 cups diced roma tomatoes\"}, {\"step\": \"1/3 cup diced oil packed sun-dried tomatoes, drained, oil reserved\"}, {\"step\": \"1/2 red onion, sliced\"}]}', '{\"title\": \"Jamie\\'s Cranberry Spinach Salad\", \"submitter\": \"Jamie Hensley\", \"description\": \"Everyone I have made this for RAVES about it! It\\'s different and so easy to make!\", \"calories\": \"338\", \"ingredients\": [{\"step\": \"1 tablespoon butter\"}, {\"step\": \"3/4 cup almonds, blanched and slivered\"}, {\"step\": \"1 pound spinach, rinsed and torn into bite-size pieces\"}, {\"step\": \"1 cup dried cranberries\"}, {\"step\": \"2 tablespoons toasted sesame seeds\"}, {\"step\": \"1 tablespoon poppy seeds\"}, {\"step\": \"1/2 cup white sugar\"}, {\"step\": \"2 teaspoons minced onion\"}, {\"step\": \"1/4 teaspoon paprika\"}, {\"step\": \"1/4 cup white wine vinegar\"}, {\"step\": \"1/4 cup cider vinegar\"}, {\"step\": \"1/2 cup vegetable oil\"}]}', '{\"title\": \"Sweet Restaurant Slaw\", \"submitter\": \"Sandi Gregory Johnson\", \"description\": \"This tastes just like the cole slaw served at popular fried chicken or fish restaurants. It\\'s excellent with burgers or on top of BBQ\\'d pork sandwiches, too!!!\", \"calories\": \"200\", \"ingredients\": [{\"step\": \"1 (16 ounce) bag coleslaw mix\"}, {\"step\": \"2 tablespoons diced onion\"}, {\"step\": \"2/3 cup creamy salad dressing (such as Miracle Whip\\\\u2122)\"}, {\"step\": \"3 tablespoons vegetable oil\"}, {\"step\": \"1/2 cup white sugar\"}, {\"step\": \"1 tablespoon white vinegar\"}, {\"step\": \"1/4 teaspoon salt\"}, {\"step\": \"1/2 teaspoon poppy seeds\"}]}', '{\"title\": \"Strawberry Spinach Salad I\", \"submitter\": \"TOZENUF\", \"description\": \"Someone brought this salad to a pot luck dinner and I had to have the recipe. I have made it many, many times since then and I have been asked for the recipe every time I bring it somewhere. It is also a great way to get kids to eat spinach!\", \"calories\": \"491\", \"ingredients\": [{\"step\": \"2 tablespoons sesame seeds\"}, {\"step\": \"1 tablespoon poppy seeds\"}, {\"step\": \"1/2 cup white sugar\"}, {\"step\": \"1/2 cup olive oil\"}, {\"step\": \"1/4 cup distilled white vinegar\"}, {\"step\": \"1/4 teaspoon paprika\"}, {\"step\": \"1/4 teaspoon Worcestershire sauce\"}, {\"step\": \"1 tablespoon minced onion\"}, {\"step\": \"10 ounces fresh spinach - rinsed, dried and torn into bite-size pieces\"}, {\"step\": \"1 quart strawberries - cleaned, hulled and sliced\"}, {\"step\": \"1/4 cup almonds, blanched and slivered\"}]}', '{\"title\": \"Classic Macaroni Salad\", \"submitter\": \"Graden\", \"description\": \"This is a salad that everyone seems to love. I always get lots of compliments on this recipe and it is just a pleasing taste that seems to suit everyone.\", \"calories\": \"390\", \"ingredients\": [{\"step\": \"4 cups uncooked elbow macaroni\"}, {\"step\": \"1 cup mayonnaise\"}, {\"step\": \"1/4 cup distilled white vinegar\"}, {\"step\": \"2/3 cup white sugar\"}, {\"step\": \"2 1/2 tablespoons prepared yellow mustard\"}, {\"step\": \"1 1/2 teaspoons salt\"}, {\"step\": \"1/2 teaspoon ground black pepper\"}, {\"step\": \"1 large onion, chopped\"}, {\"step\": \"2 stalks celery, chopped\"}, {\"step\": \"1 green bell pepper, seeded and chopped\"}, {\"step\": \"1/4 cup grated carrot (optional)\"}, {\"step\": \"2 tablespoons chopped pimento peppers (optional)\"}]}', '{\"title\": \"Mexican Bean Salad\", \"submitter\": \"Karen Castle\", \"description\": \"A colorful, spicy, and refreshing bean and corn salad.\", \"calories\": \"334\", \"ingredients\": [{\"step\": \"1 (15 ounce) can black beans, rinsed and drained\"}, {\"step\": \"1 (15 ounce) can kidney beans, drained\"}, {\"step\": \"1 (15 ounce) can cannellini beans, drained and rinsed\"}, {\"step\": \"1 green bell pepper, chopped\"}, {\"step\": \"1 red bell pepper, chopped\"}, {\"step\": \"1 (10 ounce) package frozen corn kernels\"}, {\"step\": \"1 red onion, chopped\"}, {\"step\": \"1/2 cup olive oil\"}, {\"step\": \"1/2 cup red wine vinegar\"}, {\"step\": \"2 tablespoons fresh lime juice\"}, {\"step\": \"1 tablespoon lemon juice\"}, {\"step\": \"2 tablespoons white sugar\"}, {\"step\": \"1 tablespoon salt\"}, {\"step\": \"1 clove crushed garlic\"}, {\"step\": \"1/4 cup chopped fresh cilantro\"}, {\"step\": \"1/2 tablespoon ground cumin\"}, {\"step\": \"1/2 tablespoon ground black pepper\"}, {\"step\": \"1 dash hot pepper sauce\"}, {\"step\": \"1/2 teaspoon chili powder\"}]}', '{\"title\": \"Red Skinned Potato Salad\", \"submitter\": \"Donna\", \"description\": \"This creamy salad is made with red potatoes, which give this dish--chock full of melt-in-your-mouth bacon, bits of hard boiled egg, crunchy celery and spicy onion--a delectable, firm texture.\", \"calories\": \"430\", \"ingredients\": [{\"step\": \"2 pounds clean, scrubbed new red potatoes\"}, {\"step\": \"6 eggs\"}, {\"step\": \"1 pound bacon\"}, {\"step\": \"1 onion, finely chopped\"}, {\"step\": \"1 stalk celery, finely chopped\"}, {\"step\": \"2 cups mayonnaise\"}, {\"step\": \"salt and pepper to taste\"}]}', '{\"title\": \"Alyson\\'s Broccoli Salad\", \"submitter\": \"JJOHN32\", \"description\": \"Confirmed broccoli haters have changed their minds after tasting this salad. It is great for potlucks or buffet meals. Make a day or so before you wish to serve to meld the ingredients. I have used sugar substitutes for the white sugar and also used nonfat or low-fat mayonnaise and it still tastes great!\", \"calories\": \"559\", \"ingredients\": [{\"step\": \"10 slices bacon\"}, {\"step\": \"1 head fresh broccoli, cut into bite size pieces\"}, {\"step\": \"1/4 cup red onion, chopped\"}, {\"step\": \"1/2 cup raisins\"}, {\"step\": \"3 tablespoons white wine vinegar\"}, {\"step\": \"2 tablespoons white sugar\"}, {\"step\": \"1 cup mayonnaise\"}, {\"step\": \"1 cup sunflower seeds\"}]}', '{\"title\": \"Barbie\\'s Tuna Salad\", \"submitter\": \"TANAQUIL\", \"description\": \"This is a really great tuna salad recipe I got from a friend who used it in her catering service business many years ago. The secret ingredients are the curry and Parmesan cheese! Odd combinations but this makes a terrific tuna sandwich! She used it for an appetizer with gourmet crackers and people always wanted her recipe. I have never tasted another tuna salad quite like this one, and it has been my favorite recipe for tuna salad for many, many years.\", \"calories\": \"228\", \"ingredients\": [{\"step\": \"1 (7 ounce) can white tuna, drained and flaked\"}, {\"step\": \"6 tablespoons mayonnaise or salad dressing\"}, {\"step\": \"1 tablespoon Parmesan cheese\"}, {\"step\": \"3 tablespoons sweet pickle relish\"}, {\"step\": \"1/8 teaspoon dried minced onion flakes\"}, {\"step\": \"1/4 teaspoon curry powder\"}, {\"step\": \"1 tablespoon dried parsley\"}, {\"step\": \"1 teaspoon dried dill weed\"}, {\"step\": \"1 pinch garlic powder\"}]}', '{\"title\": \"Roquefort Pear Salad\", \"submitter\": \"Michelle Krzmarzick\", \"description\": \"This is the best salad I\\'ve ever eaten and I make it all the time. It is tangy from the blue cheese, fruity from the pears, and crunchy from the caramelized pecans. The mustard vinaigrette pulls it all together.\", \"calories\": \"426\", \"ingredients\": [{\"step\": \"1 head leaf lettuce, torn into bite-size pieces\"}, {\"step\": \"3 pears - peeled, cored and chopped\"}, {\"step\": \"5 ounces Roquefort cheese, crumbled\"}, {\"step\": \"1 avocado - peeled, pitted, and diced\"}, {\"step\": \"1/2 cup thinly sliced green onions\"}, {\"step\": \"1/4 cup white sugar\"}, {\"step\": \"1/2 cup pecans\"}, {\"step\": \"1/3 cup olive oil\"}, {\"step\": \"3 tablespoons red wine vinegar\"}, {\"step\": \"1 1/2 teaspoons white sugar\"}, {\"step\": \"1 1/2 teaspoons prepared mustard\"}, {\"step\": \"1 clove garlic, chopped\"}, {\"step\": \"1/2 teaspoon salt\"}, {\"step\": \"fresh ground black pepper to taste\"}]}', '{\"title\": \"Black Bean and Corn Salad II\", \"submitter\": \"Jen\", \"description\": \"This salad is very colorful and includes a very tasty lime dressing.\", \"calories\": \"391\", \"ingredients\": [{\"step\": \"1/3 cup fresh lime juice\"}, {\"step\": \"1/2 cup olive oil\"}, {\"step\": \"1 clove garlic, minced\"}, {\"step\": \"1 teaspoon salt\"}, {\"step\": \"1/8 teaspoon ground cayenne pepper\"}, {\"step\": \"2 (15 ounce) cans black beans, rinsed and drained\"}, {\"step\": \"1 1/2 cups frozen corn kernels\"}, {\"step\": \"1 avocado - peeled, pitted and diced\"}, {\"step\": \"1 red bell pepper, chopped\"}, {\"step\": \"2 tomatoes, chopped\"}, {\"step\": \"6 green onions, thinly sliced\"}, {\"step\": \"1/2 cup chopped fresh cilantro (optional)\"}]}', '{\"title\": \"Caesar Salad Supreme\", \"submitter\": \"Karen  Weir\", \"description\": \"A wonderful, rich, anchovy dressing makes this salad a meal. Serve with crusty Italian Bread.\", \"calories\": \"384\", \"ingredients\": [{\"step\": \"6 cloves garlic, peeled, divided\"}, {\"step\": \"3/4 cup mayonnaise\"}, {\"step\": \"5 anchovy fillets, minced\"}, {\"step\": \"6 tablespoons grated Parmesan cheese, divided\"}, {\"step\": \"1 teaspoon Worcestershire sauce\"}, {\"step\": \"1 teaspoon Dijon mustard\"}, {\"step\": \"1 tablespoon lemon juice, or more to taste\"}, {\"step\": \"salt to taste\"}, {\"step\": \"ground black pepper to taste\"}, {\"step\": \"1/4 cup olive oil\"}, {\"step\": \"4 cups day-old bread, cubed\"}, {\"step\": \"1 head romaine lettuce, torn into bite-size pieces\"}]}', '{\"title\": \"Spinach and Strawberry Salad\", \"submitter\": \"JerJer\", \"description\": \"My family loves this all year round if we can find strawberries. Even the grandchildren love this salad. Quick and easy.\", \"calories\": \"235\", \"ingredients\": [{\"step\": \"2 bunches spinach, rinsed and torn into bite-size pieces\"}, {\"step\": \"4 cups sliced strawberries\"}, {\"step\": \"1/2 cup vegetable oil\"}, {\"step\": \"1/4 cup white wine vinegar\"}, {\"step\": \"1/2 cup white sugar\"}, {\"step\": \"1/4 teaspoon paprika\"}, {\"step\": \"2 tablespoons sesame seeds\"}, {\"step\": \"1 tablespoon poppy seeds\"}]}', '{\"title\": \"Holiday Chicken Salad\", \"submitter\": \"emmaxwell\", \"description\": \"Serve on lettuce cups, or make sandwiches.  Stand back and enjoy the applause!\", \"calories\": \"315\", \"ingredients\": [{\"step\": \"4 cups cubed, cooked chicken meat\"}, {\"step\": \"1 cup mayonnaise\"}, {\"step\": \"1 teaspoon paprika\"}, {\"step\": \"1 1/2 cups dried cranberries\"}, {\"step\": \"1 cup chopped celery\"}, {\"step\": \"2 green onions, chopped\"}, {\"step\": \"1/2 cup minced green bell pepper\"}, {\"step\": \"1 cup chopped pecans\"}, {\"step\": \"1 teaspoon seasoning salt\"}, {\"step\": \"ground black pepper to taste\"}]}', '{\"title\": \"Bodacious Broccoli Salad\", \"submitter\": \"Cassandra Kennedy\", \"description\": \"This recipe is requested at every family gathering. Let it be your next dish that they crave! I like this dish to be prepared at least two hours before serving. Be sure to have copies of the recipe on hand, as everyone will ask for it!\", \"calories\": \"273\", \"ingredients\": [{\"step\": \"8 slices bacon\"}, {\"step\": \"2 heads fresh broccoli, chopped\"}, {\"step\": \"1 1/2 cups sharp Cheddar cheese, shredded\"}, {\"step\": \"1/2 large red onion, chopped\"}, {\"step\": \"1/4 cup red wine vinegar\"}, {\"step\": \"1/8 cup white sugar\"}, {\"step\": \"2 teaspoons ground black pepper\"}, {\"step\": \"1 teaspoon salt\"}, {\"step\": \"2/3 cup mayonnaise\"}, {\"step\": \"1 teaspoon fresh lemon juice\"}]}', '{\"title\": \"Delicious Egg Salad for Sandwiches\", \"submitter\": \"wifeyluvs2cook\", \"description\": \"This is a wonderful-tasting egg salad sandwich that you will definitely devour. It\\'s really good on rye.\", \"calories\": \"344\", \"ingredients\": [{\"step\": \"8 eggs\"}, {\"step\": \"1/2 cup mayonnaise\"}, {\"step\": \"1 teaspoon prepared yellow mustard\"}, {\"step\": \"1/4 cup chopped green onion\"}, {\"step\": \"salt and pepper to taste\"}, {\"step\": \"1/4 teaspoon paprika\"}]}', '{\"title\": \"Antipasto Pasta Salad\", \"submitter\": \"Dayna\", \"description\": \"A delicious pasta, meat and cheese combination with a homemade dressing. It serves a crowd and is great for a picnic.\", \"calories\": \"451\", \"ingredients\": [{\"step\": \"1 pound seashell pasta\"}, {\"step\": \"1/4 pound Genoa salami, chopped\"}, {\"step\": \"1/4 pound pepperoni sausage, chopped\"}, {\"step\": \"1/2 pound Asiago cheese, diced\"}, {\"step\": \"1 (6 ounce) can black olives, drained and chopped\"}, {\"step\": \"1 red bell pepper, diced\"}, {\"step\": \"1 green bell pepper, chopped\"}, {\"step\": \"3 tomatoes, chopped\"}, {\"step\": \"1 (.7 ounce) package dry Italian-style salad dressing mix\"}, {\"step\": \"3/4 cup extra virgin olive oil\"}, {\"step\": \"1/4 cup balsamic vinegar\"}, {\"step\": \"2 tablespoons dried oregano\"}, {\"step\": \"1 tablespoon dried parsley\"}, {\"step\": \"1 tablespoon grated Parmesan cheese\"}, {\"step\": \"salt and ground black pepper to taste\"}]}', '{\"title\": \"Winter Fruit Salad with Lemon Poppyseed Dressing\", \"submitter\": \"Nora LaCroix\", \"description\": \"Wonderful salad for the holiday seasons. Great to serve for dinner at home or to take to a family gathering during the holidays.\", \"calories\": \"277\", \"ingredients\": [{\"step\": \"1/2 cup white sugar\"}, {\"step\": \"1/2 cup lemon juice\"}, {\"step\": \"2 teaspoons diced onion\"}, {\"step\": \"1 teaspoon Dijon-style prepared mustard\"}, {\"step\": \"1/2 teaspoon salt\"}, {\"step\": \"2/3 cup vegetable oil\"}, {\"step\": \"1 tablespoon poppy seeds\"}, {\"step\": \"1 head romaine lettuce, torn into bite-size pieces\"}, {\"step\": \"4 ounces shredded Swiss cheese\"}, {\"step\": \"1 cup cashews\"}, {\"step\": \"1/4 cup dried cranberries\"}, {\"step\": \"1 apple - peeled, cored and diced\"}, {\"step\": \"1 pear - peeled, cored and sliced\"}]}', '{\"title\": \"Bacon Ranch Pasta Salad\", \"submitter\": \"Wilemon\", \"description\": \"This is a very flavorful pasta salad. The crisp cooked bacon really adds a nice flavor. I get requests for this pasta salad for every get together and cook out.\", \"calories\": \"336\", \"ingredients\": [{\"step\": \"1 (12 ounce) package uncooked tri-color rotini pasta\"}, {\"step\": \"10 slices bacon\"}, {\"step\": \"1 cup mayonnaise\"}, {\"step\": \"3 tablespoons dry ranch salad dressing mix\"}, {\"step\": \"1/4 teaspoon garlic powder\"}, {\"step\": \"1/2 teaspoon garlic pepper\"}, {\"step\": \"1/2 cup milk, or as needed\"}, {\"step\": \"1 large tomato, chopped\"}, {\"step\": \"1 (4.25 ounce) can sliced black olives\"}, {\"step\": \"1 cup shredded sharp Cheddar cheese\"}]}', '{\"title\": \"Black Bean and Couscous Salad\", \"submitter\": \"Paula\", \"description\": \"This is a great salad for a buffet, with interesting textures and southwest flavors combined in one delicious salad.  Leftovers store well refrigerated for several days.\", \"calories\": \"253\", \"ingredients\": [{\"step\": \"1 cup uncooked couscous\"}, {\"step\": \"1 1/4 cups chicken broth\"}, {\"step\": \"3 tablespoons extra virgin olive oil\"}, {\"step\": \"2 tablespoons fresh lime juice\"}, {\"step\": \"1 teaspoon red wine vinegar\"}, {\"step\": \"1/2 teaspoon ground cumin\"}, {\"step\": \"8 green onions, chopped\"}, {\"step\": \"1 red bell pepper, seeded and chopped\"}, {\"step\": \"1/4 cup chopped fresh cilantro\"}, {\"step\": \"1 cup frozen corn kernels, thawed\"}, {\"step\": \"2 (15 ounce) cans black beans, drained\"}, {\"step\": \"salt and pepper to taste\"}]}', '{\"title\": \"Fresh Broccoli Salad\", \"submitter\": \"Nora\", \"description\": \"This is a yummy summer salad that uses an interesting combination of fruits, vegetables and meats.  Before you decide you won\\'t like it, try it.  You\\'ll be pleasantly surprised.  You can add an extra head of broccoli, if you like.\", \"calories\": \"374\", \"ingredients\": [{\"step\": \"2 heads fresh broccoli\"}, {\"step\": \"1 red onion\"}, {\"step\": \"1/2 pound bacon\"}, {\"step\": \"3/4 cup raisins\"}, {\"step\": \"3/4 cup sliced almonds\"}, {\"step\": \"1 cup mayonnaise\"}, {\"step\": \"1/2 cup white sugar\"}, {\"step\": \"2 tablespoons white wine vinegar\"}]}']\n"
     ]
    }
   ],
   "source": [
    "import json\n",
    "from time import sleep\n",
    "\n",
    "import requests\n",
    "from bs4 import BeautifulSoup\n",
    "\n",
    "\n",
    "def parse(u):\n",
    "    title = '-'\n",
    "    submit_by = '-'\n",
    "    description = '-'\n",
    "    calories = 0\n",
    "    ingredients = []\n",
    "    rec = {}\n",
    "\n",
    "    try:\n",
    "        r = requests.get(u, headers=headers)\n",
    "\n",
    "        if r.status_code == 200:\n",
    "            html = r.text\n",
    "            soup = BeautifulSoup(html, 'lxml')\n",
    "            # title\n",
    "            title_section = soup.select('.recipe-summary__h1')\n",
    "            # submitter\n",
    "            submitter_section = soup.select('.submitter__name')\n",
    "            # description\n",
    "            description_section = soup.select('.submitter__description')\n",
    "            # ingredients\n",
    "            ingredients_section = soup.select('.recipe-ingred_txt')\n",
    "\n",
    "            # calories\n",
    "            calories_section = soup.select('.calorie-count')\n",
    "            if calories_section:\n",
    "                calories = calories_section[0].text.replace('cals', '').strip()\n",
    "\n",
    "            if ingredients_section:\n",
    "                for ingredient in ingredients_section:\n",
    "                    ingredient_text = ingredient.text.strip()\n",
    "                    if 'Add all ingredients to list' not in ingredient_text and ingredient_text != '':\n",
    "                        ingredients.append({'step': ingredient.text.strip()})\n",
    "\n",
    "            if description_section:\n",
    "                description = description_section[0].text.strip().replace('\"', '')\n",
    "\n",
    "            if submitter_section:\n",
    "                submit_by = submitter_section[0].text.strip()\n",
    "\n",
    "            if title_section:\n",
    "                title = title_section[0].text\n",
    "\n",
    "            rec = {'title': title, 'submitter': submit_by, 'description': description, 'calories': calories,\n",
    "                   'ingredients': ingredients}\n",
    "    except Exception as ex:\n",
    "        print('Exception while parsing')\n",
    "        print(str(ex))\n",
    "    finally:\n",
    "        return json.dumps(rec)\n",
    "\n",
    "\n",
    "if __name__ == '__main__':\n",
    "    headers = {\n",
    "        'User-Agent': 'Mozilla/5.0 (Macintosh; Intel Mac OS X 10_11_6) AppleWebKit/537.36 (KHTML, like Gecko) Chrome/66.0.3359.181 Safari/537.36',\n",
    "        'Pragma': 'no-cache'\n",
    "    }\n",
    "    url = 'https://www.allrecipes.com/recipes/96/salad/'\n",
    "    r = requests.get(url, headers=headers)\n",
    "    if r.status_code == 200:\n",
    "        html = r.text\n",
    "        soup = BeautifulSoup(html, 'lxml')\n",
    "        links = soup.select('.fixed-recipe-card__h3 a')\n",
    "        results_list =[]\n",
    "        for link in links:\n",
    "            sleep(2)\n",
    "            result = parse(link['href'])\n",
    "            results_list.append(result)\n",
    "print (results_list)\n",
    "            "
   ]
  },
  {
   "cell_type": "code",
   "execution_count": 175,
   "metadata": {},
   "outputs": [],
   "source": [
    "import logging\n",
    "def connect_elasticsearch():\n",
    "    _es = None\n",
    "    _es = Elasticsearch([{'host': 'localhost', 'port': 9200}])\n",
    "    if _es.ping():\n",
    "        print('Yay Connect')\n",
    "    else:\n",
    "        print('Awww it could not connect!')\n",
    "    return _es\n",
    "\n",
    "if __name__ == '__main__':\n",
    "    logging.basicConfig(level=logging.ERROR)"
   ]
  },
  {
   "cell_type": "code",
   "execution_count": 176,
   "metadata": {},
   "outputs": [],
   "source": [
    "def create_index(es_object, index_name='recipes'):\n",
    "    created = False\n",
    "    # index settings\n",
    "    \"\"\"\n",
    "    settings = {\n",
    "        \"settings\": {\n",
    "            \"number_of_shards\": 1,\n",
    "            \"number_of_replicas\": 0\n",
    "        },\n",
    "        \"mappings\": {\n",
    "            \"salads\": {\n",
    "                \"dynamic\": \"strict\",\n",
    "                \"properties\": {\n",
    "                    \"title\": {\n",
    "                        \"type\": \"text\"\n",
    "                    },\n",
    "                    \"submitter\": {\n",
    "                        \"type\": \"text\"\n",
    "                    },\n",
    "                    \"description\": {\n",
    "                        \"type\": \"text\"\n",
    "                    },\n",
    "                    \"calories\": {\n",
    "                        \"type\": \"integer\"\n",
    "                    },\n",
    "                    \"ingredients\": {\n",
    "                        \"type\": \"nested\",\n",
    "                        \"properties\": {\n",
    "                            \"step\": {\"type\": \"text\"}\n",
    "                        }\n",
    "                    },\n",
    "                }\n",
    "            }\n",
    "        }\n",
    "\n",
    "    }\n",
    "    \"\"\"\n",
    "    try:\n",
    "        if not es_object.indices.exists(index_name):\n",
    "            # Ignore 400 means to ignore \"Index Already Exist\" error.\n",
    "            es_object.indices.create(index=index_name, ignore=400, body=settings)\n",
    "            print('Created Index')\n",
    "        created = True\n",
    "    except Exception as ex:\n",
    "        print(str(ex))\n",
    "    finally:\n",
    "        return created"
   ]
  },
  {
   "cell_type": "code",
   "execution_count": 177,
   "metadata": {},
   "outputs": [
    {
     "data": {
      "text/plain": [
       "<Elasticsearch([{'host': 'localhost', 'port': 9200}])>"
      ]
     },
     "execution_count": 177,
     "metadata": {},
     "output_type": "execute_result"
    }
   ],
   "source": [
    "# Import Elasticsearch package \n",
    "from elasticsearch import Elasticsearch \n",
    "# Connect to the elastic cluster\n",
    "es=Elasticsearch([{'host':'localhost','port':9200}])\n",
    "es"
   ]
  },
  {
   "cell_type": "code",
   "execution_count": 178,
   "metadata": {},
   "outputs": [],
   "source": [
    "#es.indices.delete(index = 'recipes')"
   ]
  },
  {
   "cell_type": "code",
   "execution_count": 179,
   "metadata": {},
   "outputs": [
    {
     "name": "stdout",
     "output_type": "stream",
     "text": [
      "Yay Connect\n"
     ]
    },
    {
     "data": {
      "text/plain": [
       "<Elasticsearch([{'host': 'localhost', 'port': 9200}])>"
      ]
     },
     "execution_count": 179,
     "metadata": {},
     "output_type": "execute_result"
    }
   ],
   "source": [
    "connect_elasticsearch()"
   ]
  },
  {
   "cell_type": "code",
   "execution_count": 180,
   "metadata": {},
   "outputs": [
    {
     "name": "stdout",
     "output_type": "stream",
     "text": [
      "Yay Connect\n"
     ]
    },
    {
     "data": {
      "text/plain": [
       "True"
      ]
     },
     "execution_count": 180,
     "metadata": {},
     "output_type": "execute_result"
    }
   ],
   "source": [
    "create_index(connect_elasticsearch(),index_name='recipes')"
   ]
  },
  {
   "cell_type": "code",
   "execution_count": 181,
   "metadata": {},
   "outputs": [],
   "source": [
    "res= es.search(index='recipes')"
   ]
  },
  {
   "cell_type": "code",
   "execution_count": 182,
   "metadata": {},
   "outputs": [
    {
     "data": {
      "text/plain": [
       "{'took': 2,\n",
       " 'timed_out': False,\n",
       " '_shards': {'total': 5, 'successful': 5, 'skipped': 0, 'failed': 0},\n",
       " 'hits': {'total': 0, 'max_score': None, 'hits': []}}"
      ]
     },
     "execution_count": 182,
     "metadata": {},
     "output_type": "execute_result"
    }
   ],
   "source": [
    "res"
   ]
  },
  {
   "cell_type": "code",
   "execution_count": 183,
   "metadata": {},
   "outputs": [
    {
     "data": {
      "text/plain": [
       "{'recipes': {'mappings': {}}}"
      ]
     },
     "execution_count": 183,
     "metadata": {},
     "output_type": "execute_result"
    }
   ],
   "source": [
    "es.indices.get_mapping('recipes')"
   ]
  },
  {
   "cell_type": "code",
   "execution_count": 184,
   "metadata": {},
   "outputs": [
    {
     "data": {
      "text/plain": [
       "{'took': 4,\n",
       " 'timed_out': False,\n",
       " '_shards': {'total': 5, 'successful': 5, 'skipped': 0, 'failed': 0},\n",
       " 'hits': {'total': 0, 'max_score': None, 'hits': []}}"
      ]
     },
     "execution_count": 184,
     "metadata": {},
     "output_type": "execute_result"
    }
   ],
   "source": [
    "es.search(index = 'recipes')"
   ]
  },
  {
   "cell_type": "code",
   "execution_count": 185,
   "metadata": {},
   "outputs": [],
   "source": [
    "def store_record(elastic_object, index_name, record):\n",
    "    try:\n",
    "        outcome = elastic_object.index(index=index_name, doc_type='salads', body=record)\n",
    "    except Exception as ex:\n",
    "        print('Error in indexing data')\n",
    "        print(str(ex))"
   ]
  },
  {
   "cell_type": "code",
   "execution_count": null,
   "metadata": {},
   "outputs": [],
   "source": []
  },
  {
   "cell_type": "code",
   "execution_count": 193,
   "metadata": {},
   "outputs": [
    {
     "data": {
      "text/plain": [
       "{'recipes': {'aliases': {},\n",
       "  'mappings': {},\n",
       "  'settings': {'index': {'creation_date': '1539083122536',\n",
       "    'number_of_shards': '5',\n",
       "    'number_of_replicas': '1',\n",
       "    'uuid': '0CwaEGtCTUiNgoXQXxvQ_w',\n",
       "    'version': {'created': '6040199'},\n",
       "    'provided_name': 'recipes'}}}}"
      ]
     },
     "execution_count": 193,
     "metadata": {},
     "output_type": "execute_result"
    }
   ],
   "source": [
    "es.indices.get(index='recipes')"
   ]
  },
  {
   "cell_type": "code",
   "execution_count": 194,
   "metadata": {},
   "outputs": [
    {
     "data": {
      "text/plain": [
       "{'title': 'Apple Avocado Salad with Tangerine Dressing',\n",
       " 'submitter': 'Donna Smally',\n",
       " 'description': \"This easy salad is perfect for a hot day and it is very filling. You wouldn't think this mixture of apples, avocados, blue cheese, and tangerine dressing would go together, but it's wonderful!\",\n",
       " 'calories': '144',\n",
       " 'ingredients': [{'step': '1 (10 ounce) package baby greens'},\n",
       "  {'step': '1/4 cup chopped red onion'},\n",
       "  {'step': '1/2 cup chopped walnuts'},\n",
       "  {'step': '1/3 cup crumbled blue cheese'},\n",
       "  {'step': '2 teaspoons lemon zest'},\n",
       "  {'step': '1 apple - peeled, cored and sliced'},\n",
       "  {'step': '1 avocado - peeled, pitted and diced'},\n",
       "  {'step': '4 mandarin oranges, juiced'},\n",
       "  {'step': '1/2 lemon, juiced'},\n",
       "  {'step': '1/2 teaspoon lemon zest'},\n",
       "  {'step': '1 clove garlic, minced'},\n",
       "  {'step': '2 tablespoons olive oil'},\n",
       "  {'step': 'salt to taste'}]}"
      ]
     },
     "execution_count": 194,
     "metadata": {},
     "output_type": "execute_result"
    }
   ],
   "source": [
    "import json\n",
    "json.loads(results_list[0])"
   ]
  },
  {
   "cell_type": "code",
   "execution_count": 195,
   "metadata": {},
   "outputs": [
    {
     "name": "stdout",
     "output_type": "stream",
     "text": [
      "Yay Connect\n",
      "Yay Connect\n",
      "Yay Connect\n",
      "Yay Connect\n",
      "Yay Connect\n",
      "Yay Connect\n",
      "Yay Connect\n",
      "Yay Connect\n",
      "Yay Connect\n",
      "Yay Connect\n",
      "Yay Connect\n",
      "Yay Connect\n",
      "Yay Connect\n",
      "Yay Connect\n",
      "Yay Connect\n",
      "Yay Connect\n",
      "Yay Connect\n",
      "Yay Connect\n",
      "Yay Connect\n",
      "Yay Connect\n",
      "Yay Connect\n",
      "Yay Connect\n",
      "Yay Connect\n",
      "Yay Connect\n",
      "Yay Connect\n",
      "Yay Connect\n",
      "Yay Connect\n",
      "Yay Connect\n",
      "Yay Connect\n"
     ]
    }
   ],
   "source": [
    "for e in results_list:\n",
    "    #print (e)\n",
    "    store_record(connect_elasticsearch(),index_name='recipes', record = json.loads(e))"
   ]
  },
  {
   "cell_type": "code",
   "execution_count": 196,
   "metadata": {},
   "outputs": [
    {
     "data": {
      "text/plain": [
       "{'took': 7,\n",
       " 'timed_out': False,\n",
       " '_shards': {'total': 5, 'successful': 5, 'skipped': 0, 'failed': 0},\n",
       " 'hits': {'total': 29,\n",
       "  'max_score': 1.0,\n",
       "  'hits': [{'_index': 'recipes',\n",
       "    '_type': 'salads',\n",
       "    '_id': 'cNONWGYBUEkhmG_89Qw4',\n",
       "    '_score': 1.0,\n",
       "    '_source': {'title': 'Watermelon Basil Salad',\n",
       "     'submitter': 'Chefthompson.com',\n",
       "     'description': 'A quick salad of watermelon and basil. The chili powder plays well with the sweetness of the melon.',\n",
       "     'calories': '10',\n",
       "     'ingredients': [{'step': '1/4 cup basil leaves'},\n",
       "      {'step': '4 cups 1/2-inch cubes watermelon'},\n",
       "      {'step': '2 teaspoons lemon juice'},\n",
       "      {'step': '1/4 teaspoon kosher salt'},\n",
       "      {'step': '1/4 teaspoon chili powder'}]}},\n",
       "   {'_index': 'recipes',\n",
       "    '_type': 'salads',\n",
       "    '_id': 'iNONWGYBUEkhmG_8_wxn',\n",
       "    '_score': 1.0,\n",
       "    '_source': {'title': 'Black Bean and Couscous Salad',\n",
       "     'submitter': 'Paula',\n",
       "     'description': 'This is a great salad for a buffet, with interesting textures and southwest flavors combined in one delicious salad.  Leftovers store well refrigerated for several days.',\n",
       "     'calories': '253',\n",
       "     'ingredients': [{'step': '1 cup uncooked couscous'},\n",
       "      {'step': '1 1/4 cups chicken broth'},\n",
       "      {'step': '3 tablespoons extra virgin olive oil'},\n",
       "      {'step': '2 tablespoons fresh lime juice'},\n",
       "      {'step': '1 teaspoon red wine vinegar'},\n",
       "      {'step': '1/2 teaspoon ground cumin'},\n",
       "      {'step': '8 green onions, chopped'},\n",
       "      {'step': '1 red bell pepper, seeded and chopped'},\n",
       "      {'step': '1/4 cup chopped fresh cilantro'},\n",
       "      {'step': '1 cup frozen corn kernels, thawed'},\n",
       "      {'step': '2 (15 ounce) cans black beans, drained'},\n",
       "      {'step': 'salt and pepper to taste'}]}},\n",
       "   {'_index': 'recipes',\n",
       "    '_type': 'salads',\n",
       "    '_id': 'idONWGYBUEkhmG_8_wy7',\n",
       "    '_score': 1.0,\n",
       "    '_source': {'title': 'Fresh Broccoli Salad',\n",
       "     'submitter': 'Nora',\n",
       "     'description': \"This is a yummy summer salad that uses an interesting combination of fruits, vegetables and meats.  Before you decide you won't like it, try it.  You'll be pleasantly surprised.  You can add an extra head of broccoli, if you like.\",\n",
       "     'calories': '374',\n",
       "     'ingredients': [{'step': '2 heads fresh broccoli'},\n",
       "      {'step': '1 red onion'},\n",
       "      {'step': '1/2 pound bacon'},\n",
       "      {'step': '3/4 cup raisins'},\n",
       "      {'step': '3/4 cup sliced almonds'},\n",
       "      {'step': '1 cup mayonnaise'},\n",
       "      {'step': '1/2 cup white sugar'},\n",
       "      {'step': '2 tablespoons white wine vinegar'}]}},\n",
       "   {'_index': 'recipes',\n",
       "    '_type': 'salads',\n",
       "    '_id': 'btONWGYBUEkhmG_89Axm',\n",
       "    '_score': 1.0,\n",
       "    '_source': {'title': 'All-American Loaded Baked Potato Salad',\n",
       "     'submitter': 'spicejenmom',\n",
       "     'description': \"This is a great twist on two all-American favorites--the potato salad and the loaded baked potato. Served cold, this has been a crowd-pleaser at our many family functions and is often requested. Even people who don't normally love potato salad seem to love this!\",\n",
       "     'calories': '434',\n",
       "     'ingredients': [{'step': '6 cups cubed russet potatoes'},\n",
       "      {'step': '1 teaspoon salt'},\n",
       "      {'step': '1 cup sour cream'},\n",
       "      {'step': '1 cup creamy salad dressing (such as Miracle Whip®)'},\n",
       "      {'step': '1/2 teaspoon coarse ground black pepper'},\n",
       "      {'step': '1 cup shredded Cheddar cheese'},\n",
       "      {'step': '1/2 cup chopped green onions'},\n",
       "      {'step': '1/2 cup real bacon bits'}]}},\n",
       "   {'_index': 'recipes',\n",
       "    '_type': 'salads',\n",
       "    '_id': 'b9ONWGYBUEkhmG_89AzU',\n",
       "    '_score': 1.0,\n",
       "    '_source': {'title': 'Israeli Tomato and Cucumber Salad',\n",
       "     'submitter': 'mimitomany',\n",
       "     'description': 'Chopped tomatoes, cucumbers, onions, and parsley combine with a drizzled dressing of lemon juice, olive oil, garlic, and mint leaves.',\n",
       "     'calories': '208',\n",
       "     'ingredients': [{'step': 'Salad:'},\n",
       "      {'step': '4 English cucumbers, diced'},\n",
       "      {'step': '4 Roma (plum) tomatoes, seeded and diced'},\n",
       "      {'step': '1/2 purple onion, diced'},\n",
       "      {'step': '1 red bell pepper, seeded and diced'},\n",
       "      {'step': '2 tablespoons chopped garlic'},\n",
       "      {'step': '1 cup chopped fresh parsley'},\n",
       "      {'step': '3 tablespoons chopped fresh mint'},\n",
       "      {'step': 'Dressing:'},\n",
       "      {'step': '1/2 cup olive oil'},\n",
       "      {'step': '2 tablespoons fresh lemon juice'},\n",
       "      {'step': '1 tablespoon kosher salt'},\n",
       "      {'step': '1 tablespoon ground black pepper'}]}},\n",
       "   {'_index': 'recipes',\n",
       "    '_type': 'salads',\n",
       "    '_id': 'ddONWGYBUEkhmG_89wwn',\n",
       "    '_score': 1.0,\n",
       "    '_source': {'title': 'Mediterranean Greek Salad',\n",
       "     'submitter': 'Heather',\n",
       "     'description': 'This is a great salad to take to a barbeque. All ingredients are approximate, so add more or less of any ingredient depending on your own taste.',\n",
       "     'calories': '131',\n",
       "     'ingredients': [{'step': '3 cucumbers, seeded and sliced'},\n",
       "      {'step': '1 1/2 cups crumbled feta cheese'},\n",
       "      {'step': '1 cup black olives, pitted and sliced'},\n",
       "      {'step': '3 cups diced roma tomatoes'},\n",
       "      {'step': '1/3 cup diced oil packed sun-dried tomatoes, drained, oil reserved'},\n",
       "      {'step': '1/2 red onion, sliced'}]}},\n",
       "   {'_index': 'recipes',\n",
       "    '_type': 'salads',\n",
       "    '_id': 'etONWGYBUEkhmG_8-QzM',\n",
       "    '_score': 1.0,\n",
       "    '_source': {'title': 'Mexican Bean Salad',\n",
       "     'submitter': 'Karen Castle',\n",
       "     'description': 'A colorful, spicy, and refreshing bean and corn salad.',\n",
       "     'calories': '334',\n",
       "     'ingredients': [{'step': '1 (15 ounce) can black beans, rinsed and drained'},\n",
       "      {'step': '1 (15 ounce) can kidney beans, drained'},\n",
       "      {'step': '1 (15 ounce) can cannellini beans, drained and rinsed'},\n",
       "      {'step': '1 green bell pepper, chopped'},\n",
       "      {'step': '1 red bell pepper, chopped'},\n",
       "      {'step': '1 (10 ounce) package frozen corn kernels'},\n",
       "      {'step': '1 red onion, chopped'},\n",
       "      {'step': '1/2 cup olive oil'},\n",
       "      {'step': '1/2 cup red wine vinegar'},\n",
       "      {'step': '2 tablespoons fresh lime juice'},\n",
       "      {'step': '1 tablespoon lemon juice'},\n",
       "      {'step': '2 tablespoons white sugar'},\n",
       "      {'step': '1 tablespoon salt'},\n",
       "      {'step': '1 clove crushed garlic'},\n",
       "      {'step': '1/4 cup chopped fresh cilantro'},\n",
       "      {'step': '1/2 tablespoon ground cumin'},\n",
       "      {'step': '1/2 tablespoon ground black pepper'},\n",
       "      {'step': '1 dash hot pepper sauce'},\n",
       "      {'step': '1/2 teaspoon chili powder'}]}},\n",
       "   {'_index': 'recipes',\n",
       "    '_type': 'salads',\n",
       "    '_id': 'fdONWGYBUEkhmG_8-wwC',\n",
       "    '_score': 1.0,\n",
       "    '_source': {'title': \"Barbie's Tuna Salad\",\n",
       "     'submitter': 'TANAQUIL',\n",
       "     'description': 'This is a really great tuna salad recipe I got from a friend who used it in her catering service business many years ago. The secret ingredients are the curry and Parmesan cheese! Odd combinations but this makes a terrific tuna sandwich! She used it for an appetizer with gourmet crackers and people always wanted her recipe. I have never tasted another tuna salad quite like this one, and it has been my favorite recipe for tuna salad for many, many years.',\n",
       "     'calories': '228',\n",
       "     'ingredients': [{'step': '1 (7 ounce) can white tuna, drained and flaked'},\n",
       "      {'step': '6 tablespoons mayonnaise or salad dressing'},\n",
       "      {'step': '1 tablespoon Parmesan cheese'},\n",
       "      {'step': '3 tablespoons sweet pickle relish'},\n",
       "      {'step': '1/8 teaspoon dried minced onion flakes'},\n",
       "      {'step': '1/4 teaspoon curry powder'},\n",
       "      {'step': '1 tablespoon dried parsley'},\n",
       "      {'step': '1 teaspoon dried dill weed'},\n",
       "      {'step': '1 pinch garlic powder'}]}},\n",
       "   {'_index': 'recipes',\n",
       "    '_type': 'salads',\n",
       "    '_id': 'f9ONWGYBUEkhmG_8-wzJ',\n",
       "    '_score': 1.0,\n",
       "    '_source': {'title': 'Black Bean and Corn Salad II',\n",
       "     'submitter': 'Jen',\n",
       "     'description': 'This salad is very colorful and includes a very tasty lime dressing.',\n",
       "     'calories': '391',\n",
       "     'ingredients': [{'step': '1/3 cup fresh lime juice'},\n",
       "      {'step': '1/2 cup olive oil'},\n",
       "      {'step': '1 clove garlic, minced'},\n",
       "      {'step': '1 teaspoon salt'},\n",
       "      {'step': '1/8 teaspoon ground cayenne pepper'},\n",
       "      {'step': '2 (15 ounce) cans black beans, rinsed and drained'},\n",
       "      {'step': '1 1/2 cups frozen corn kernels'},\n",
       "      {'step': '1 avocado - peeled, pitted and diced'},\n",
       "      {'step': '1 red bell pepper, chopped'},\n",
       "      {'step': '2 tomatoes, chopped'},\n",
       "      {'step': '6 green onions, thinly sliced'},\n",
       "      {'step': '1/2 cup chopped fresh cilantro (optional)'}]}},\n",
       "   {'_index': 'recipes',\n",
       "    '_type': 'salads',\n",
       "    '_id': 'gNONWGYBUEkhmG_8_AxA',\n",
       "    '_score': 1.0,\n",
       "    '_source': {'title': 'Caesar Salad Supreme',\n",
       "     'submitter': 'Karen  Weir',\n",
       "     'description': 'A wonderful, rich, anchovy dressing makes this salad a meal. Serve with crusty Italian Bread.',\n",
       "     'calories': '384',\n",
       "     'ingredients': [{'step': '6 cloves garlic, peeled, divided'},\n",
       "      {'step': '3/4 cup mayonnaise'},\n",
       "      {'step': '5 anchovy fillets, minced'},\n",
       "      {'step': '6 tablespoons grated Parmesan cheese, divided'},\n",
       "      {'step': '1 teaspoon Worcestershire sauce'},\n",
       "      {'step': '1 teaspoon Dijon mustard'},\n",
       "      {'step': '1 tablespoon lemon juice, or more to taste'},\n",
       "      {'step': 'salt to taste'},\n",
       "      {'step': 'ground black pepper to taste'},\n",
       "      {'step': '1/4 cup olive oil'},\n",
       "      {'step': '4 cups day-old bread, cubed'},\n",
       "      {'step': '1 head romaine lettuce, torn into bite-size pieces'}]}}]}}"
      ]
     },
     "execution_count": 196,
     "metadata": {},
     "output_type": "execute_result"
    }
   ],
   "source": [
    "es.search(index = 'recipes')"
   ]
  },
  {
   "cell_type": "code",
   "execution_count": null,
   "metadata": {},
   "outputs": [],
   "source": []
  },
  {
   "cell_type": "code",
   "execution_count": null,
   "metadata": {},
   "outputs": [],
   "source": []
  }
 ],
 "metadata": {
  "kernelspec": {
   "display_name": "Python 3",
   "language": "python",
   "name": "python3"
  },
  "language_info": {
   "codemirror_mode": {
    "name": "ipython",
    "version": 3
   },
   "file_extension": ".py",
   "mimetype": "text/x-python",
   "name": "python",
   "nbconvert_exporter": "python",
   "pygments_lexer": "ipython3",
   "version": "3.6.4"
  }
 },
 "nbformat": 4,
 "nbformat_minor": 2
}

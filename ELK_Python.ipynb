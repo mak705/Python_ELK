{
 "cells": [
  {
   "cell_type": "code",
   "execution_count": 21,
   "metadata": {},
   "outputs": [],
   "source": [
    "import urllib.request\n",
    "import urllib.parse\n",
    "from bs4 import BeautifulSoup\n",
    "\n",
    "\n",
    "url = 'https://health.usnews.com/doctors/new-jersey'\n",
    "\n",
    "#data = data.encode('utf-8')\n",
    "\n",
    "headers = {}\n",
    "headers['User-Agent'] = \"Mozilla/5.0 (X11; Linux i686)\"\n",
    "\n",
    "req = urllib.request.Request(url, headers=headers)\n",
    "resp = urllib.request.urlopen(req)\n",
    "resp_data = resp.read()\n",
    "\n",
    "#print(resp_data)"
   ]
  },
  {
   "cell_type": "code",
   "execution_count": 22,
   "metadata": {},
   "outputs": [],
   "source": [
    "soup = BeautifulSoup(resp_data, 'html.parser')"
   ]
  },
  {
   "cell_type": "code",
   "execution_count": 23,
   "metadata": {},
   "outputs": [],
   "source": [
    "#print (soup)"
   ]
  },
  {
   "cell_type": "code",
   "execution_count": 24,
   "metadata": {},
   "outputs": [],
   "source": [
    "doc = soup.findAll('a', {'class': 'search-result-link bar-tighter'})"
   ]
  },
  {
   "cell_type": "code",
   "execution_count": 25,
   "metadata": {},
   "outputs": [],
   "source": [
    "#for do in doc:\n",
    "    #print ('https://health.usnews.com' + do.get('href', None))"
   ]
  },
  {
   "cell_type": "code",
   "execution_count": 26,
   "metadata": {},
   "outputs": [],
   "source": [
    "links = ['https://health.usnews.com' + do.get('href', None) for do in doc]"
   ]
  },
  {
   "cell_type": "code",
   "execution_count": 27,
   "metadata": {},
   "outputs": [],
   "source": [
    "#from collections import defaultdict\n",
    "#data=defaultdict(list)\n",
    "import re"
   ]
  },
  {
   "cell_type": "code",
   "execution_count": 33,
   "metadata": {},
   "outputs": [],
   "source": [
    "def extract_data(link):\n",
    "            headers = {}\n",
    "            doctor = []\n",
    "            headers['User-Agent'] = \"Mozilla/5.0 (X11; Linux i686)\"\n",
    "            doc_req = urllib.request.Request(link,headers=headers)\n",
    "            doc_resp = urllib.request.urlopen(doc_req)\n",
    "            doc_resp_data = doc_resp.read()\n",
    "            doc_soup = BeautifulSoup(doc_resp_data, 'html.parser')\n",
    "            doc_name = doc_soup.find('h1')\n",
    "            doc_name_text =  (doc_name.text).strip()\n",
    "            doc_name_text_mod = (re.sub('\\s+', ' ', doc_name_text))\n",
    "            doc_name_text_mod_1  = ('Name' ':' +doc_name_text_mod)\n",
    "            doctor.append(doc_name_text_mod_1)\n",
    "    \n",
    "            doc_overview = doc_soup.find('p')\n",
    "            doc_overview_text = (doc_overview.text).strip()\n",
    "            doc_overview_text_mod = (re.sub('\\n\\| ', ', ', doc_overview_text))\n",
    "            doc_overview_text_mod_1  = ('Specialised and Location' ':' + doc_overview_text_mod)\n",
    "            doctor.append(doc_overview_text_mod_1)\n",
    "            #print (doctor)\n",
    "            dicto =  (dict(s.split(':') for s in doctor))\n",
    "            return dicto"
   ]
  },
  {
   "cell_type": "code",
   "execution_count": 12,
   "metadata": {},
   "outputs": [],
   "source": [
    "#dicto"
   ]
  },
  {
   "cell_type": "code",
   "execution_count": 12,
   "metadata": {},
   "outputs": [],
   "source": [
    "import time \n",
    "import os\n",
    "import timeit\n",
    "from joblib import Parallel, delayed"
   ]
  },
  {
   "cell_type": "code",
   "execution_count": null,
   "metadata": {},
   "outputs": [],
   "source": [
    "links = ['https://health.usnews.com' + do.get('href', None) for do in doc]\n",
    "#(extract_data(link) for link in (links))\n",
    "for link in links:\n",
    "    extract_data(link)\n",
    "    "
   ]
  },
  {
   "cell_type": "code",
   "execution_count": 34,
   "metadata": {},
   "outputs": [
    {
     "name": "stderr",
     "output_type": "stream",
     "text": [
      "[Parallel(n_jobs=1)]: Using backend SequentialBackend with 1 concurrent workers.\n",
      "[Parallel(n_jobs=1)]: Done  20 out of  20 | elapsed:   15.7s finished\n"
     ]
    }
   ],
   "source": [
    "if __name__ == '__main__':\n",
    "    \n",
    "    links = ['https://health.usnews.com' + do.get('href', None) for do in doc]\n",
    "    r = Parallel(n_jobs=1, verbose=1)(delayed(extract_data)(link) for link in (links))\n",
    "    "
   ]
  },
  {
   "cell_type": "code",
   "execution_count": 35,
   "metadata": {},
   "outputs": [
    {
     "data": {
      "text/plain": [
       "[{'Name': 'Dr. Tajwar Aamir MD',\n",
       "  'Specialised and Location': 'Pediatrics, Princeton, NJ'},\n",
       " {'Name': 'Dr. Bernard Aaron', 'Specialised and Location': 'Health'},\n",
       " {'Name': 'Dr. Joseph Aaron MD',\n",
       "  'Specialised and Location': 'Internal Medicine, Short Hills, NJ'},\n",
       " {'Name': 'Dr. Michael Aaron DO',\n",
       "  'Specialised and Location': 'Cardiology, Neptune, NJ'},\n",
       " {'Name': 'Dr. Darryl Aarons DO',\n",
       "  'Specialised and Location': 'Family Medicine, Brigantine, NJ'},\n",
       " {'Name': 'Dr. William Aarons MD',\n",
       "  'Specialised and Location': 'Surgery, Atlantic City, NJ'},\n",
       " {'Name': 'Dr. Sirike Aasmaa DO',\n",
       "  'Specialised and Location': 'Internal Medicine, Montville, NJ'},\n",
       " {'Name': 'Dr. Mario Abad MD',\n",
       "  'Specialised and Location': 'Internal Medicine, Hamilton Square, NJ'},\n",
       " {'Name': 'Dr. Bilal Abadi MD',\n",
       "  'Specialised and Location': 'Other MD/DO, Newark, NJ'},\n",
       " {'Name': 'Dr. Nelly Abadir MD',\n",
       "  'Specialised and Location': 'Anesthesiology, Milltown, NJ'},\n",
       " {'Name': 'Dr. Esmeralda Abano-Mendoza MD',\n",
       "  'Specialised and Location': 'Obstetrics & Gynecology, Jersey City, NJ'},\n",
       " {'Name': 'Dr. Antonio Abary MD',\n",
       "  'Specialised and Location': 'Family Medicine, Trenton, NJ'},\n",
       " {'Name': 'Dr. Nicole Abate MD',\n",
       "  'Specialised and Location': 'Critical Care Medicine, Moorestown, NJ'},\n",
       " {'Name': 'Dr. Holly Abate Bersalona MD',\n",
       "  'Specialised and Location': 'Internal Medicine, Sea Girt, NJ'},\n",
       " {'Name': 'Dr. Muhammad Abbas MD',\n",
       "  'Specialised and Location': 'Psychiatry, Neptune, NJ'},\n",
       " {'Name': 'Dr. Shahida Abbas MD',\n",
       "  'Specialised and Location': 'Internal Medicine, Old Bridge, NJ'},\n",
       " {'Name': 'Dr. Arshia Abbasi MD',\n",
       "  'Specialised and Location': 'Nephrology, Brick, NJ'},\n",
       " {'Name': 'Dr. Faheem Abbasi MD',\n",
       "  'Specialised and Location': 'Physical Medicine & Rehabilitation, North Brunswick, NJ'},\n",
       " {'Name': 'Dr. Muhammad Abbasi MD',\n",
       "  'Specialised and Location': 'Oncology, Mountain Lakes, NJ'},\n",
       " {'Name': 'Dr. Muhammad Rashid Abbasi MD',\n",
       "  'Specialised and Location': 'Oncology, Mountain Lakes, NJ'}]"
      ]
     },
     "execution_count": 35,
     "metadata": {},
     "output_type": "execute_result"
    }
   ],
   "source": [
    "r"
   ]
  },
  {
   "cell_type": "code",
   "execution_count": 36,
   "metadata": {},
   "outputs": [],
   "source": [
    "import pandas as pd"
   ]
  },
  {
   "cell_type": "code",
   "execution_count": 37,
   "metadata": {},
   "outputs": [],
   "source": [
    "df = pd.DataFrame(r)"
   ]
  },
  {
   "cell_type": "code",
   "execution_count": 38,
   "metadata": {},
   "outputs": [
    {
     "data": {
      "text/html": [
       "<div>\n",
       "<style scoped>\n",
       "    .dataframe tbody tr th:only-of-type {\n",
       "        vertical-align: middle;\n",
       "    }\n",
       "\n",
       "    .dataframe tbody tr th {\n",
       "        vertical-align: top;\n",
       "    }\n",
       "\n",
       "    .dataframe thead th {\n",
       "        text-align: right;\n",
       "    }\n",
       "</style>\n",
       "<table border=\"1\" class=\"dataframe\">\n",
       "  <thead>\n",
       "    <tr style=\"text-align: right;\">\n",
       "      <th></th>\n",
       "      <th>Name</th>\n",
       "      <th>Specialised and Location</th>\n",
       "    </tr>\n",
       "  </thead>\n",
       "  <tbody>\n",
       "    <tr>\n",
       "      <th>0</th>\n",
       "      <td>Dr. Tajwar Aamir MD</td>\n",
       "      <td>Pediatrics, Princeton, NJ</td>\n",
       "    </tr>\n",
       "    <tr>\n",
       "      <th>1</th>\n",
       "      <td>Dr. Bernard Aaron</td>\n",
       "      <td>Health</td>\n",
       "    </tr>\n",
       "    <tr>\n",
       "      <th>2</th>\n",
       "      <td>Dr. Joseph Aaron MD</td>\n",
       "      <td>Internal Medicine, Short Hills, NJ</td>\n",
       "    </tr>\n",
       "    <tr>\n",
       "      <th>3</th>\n",
       "      <td>Dr. Michael Aaron DO</td>\n",
       "      <td>Cardiology, Neptune, NJ</td>\n",
       "    </tr>\n",
       "    <tr>\n",
       "      <th>4</th>\n",
       "      <td>Dr. Darryl Aarons DO</td>\n",
       "      <td>Family Medicine, Brigantine, NJ</td>\n",
       "    </tr>\n",
       "    <tr>\n",
       "      <th>5</th>\n",
       "      <td>Dr. William Aarons MD</td>\n",
       "      <td>Surgery, Atlantic City, NJ</td>\n",
       "    </tr>\n",
       "    <tr>\n",
       "      <th>6</th>\n",
       "      <td>Dr. Sirike Aasmaa DO</td>\n",
       "      <td>Internal Medicine, Montville, NJ</td>\n",
       "    </tr>\n",
       "    <tr>\n",
       "      <th>7</th>\n",
       "      <td>Dr. Mario Abad MD</td>\n",
       "      <td>Internal Medicine, Hamilton Square, NJ</td>\n",
       "    </tr>\n",
       "    <tr>\n",
       "      <th>8</th>\n",
       "      <td>Dr. Bilal Abadi MD</td>\n",
       "      <td>Other MD/DO, Newark, NJ</td>\n",
       "    </tr>\n",
       "    <tr>\n",
       "      <th>9</th>\n",
       "      <td>Dr. Nelly Abadir MD</td>\n",
       "      <td>Anesthesiology, Milltown, NJ</td>\n",
       "    </tr>\n",
       "    <tr>\n",
       "      <th>10</th>\n",
       "      <td>Dr. Esmeralda Abano-Mendoza MD</td>\n",
       "      <td>Obstetrics &amp; Gynecology, Jersey City, NJ</td>\n",
       "    </tr>\n",
       "    <tr>\n",
       "      <th>11</th>\n",
       "      <td>Dr. Antonio Abary MD</td>\n",
       "      <td>Family Medicine, Trenton, NJ</td>\n",
       "    </tr>\n",
       "    <tr>\n",
       "      <th>12</th>\n",
       "      <td>Dr. Nicole Abate MD</td>\n",
       "      <td>Critical Care Medicine, Moorestown, NJ</td>\n",
       "    </tr>\n",
       "    <tr>\n",
       "      <th>13</th>\n",
       "      <td>Dr. Holly Abate Bersalona MD</td>\n",
       "      <td>Internal Medicine, Sea Girt, NJ</td>\n",
       "    </tr>\n",
       "    <tr>\n",
       "      <th>14</th>\n",
       "      <td>Dr. Muhammad Abbas MD</td>\n",
       "      <td>Psychiatry, Neptune, NJ</td>\n",
       "    </tr>\n",
       "    <tr>\n",
       "      <th>15</th>\n",
       "      <td>Dr. Shahida Abbas MD</td>\n",
       "      <td>Internal Medicine, Old Bridge, NJ</td>\n",
       "    </tr>\n",
       "    <tr>\n",
       "      <th>16</th>\n",
       "      <td>Dr. Arshia Abbasi MD</td>\n",
       "      <td>Nephrology, Brick, NJ</td>\n",
       "    </tr>\n",
       "    <tr>\n",
       "      <th>17</th>\n",
       "      <td>Dr. Faheem Abbasi MD</td>\n",
       "      <td>Physical Medicine &amp; Rehabilitation, North Brun...</td>\n",
       "    </tr>\n",
       "    <tr>\n",
       "      <th>18</th>\n",
       "      <td>Dr. Muhammad Abbasi MD</td>\n",
       "      <td>Oncology, Mountain Lakes, NJ</td>\n",
       "    </tr>\n",
       "    <tr>\n",
       "      <th>19</th>\n",
       "      <td>Dr. Muhammad Rashid Abbasi MD</td>\n",
       "      <td>Oncology, Mountain Lakes, NJ</td>\n",
       "    </tr>\n",
       "  </tbody>\n",
       "</table>\n",
       "</div>"
      ],
      "text/plain": [
       "                              Name  \\\n",
       "0              Dr. Tajwar Aamir MD   \n",
       "1                Dr. Bernard Aaron   \n",
       "2              Dr. Joseph Aaron MD   \n",
       "3             Dr. Michael Aaron DO   \n",
       "4             Dr. Darryl Aarons DO   \n",
       "5            Dr. William Aarons MD   \n",
       "6             Dr. Sirike Aasmaa DO   \n",
       "7                Dr. Mario Abad MD   \n",
       "8               Dr. Bilal Abadi MD   \n",
       "9              Dr. Nelly Abadir MD   \n",
       "10  Dr. Esmeralda Abano-Mendoza MD   \n",
       "11            Dr. Antonio Abary MD   \n",
       "12             Dr. Nicole Abate MD   \n",
       "13    Dr. Holly Abate Bersalona MD   \n",
       "14           Dr. Muhammad Abbas MD   \n",
       "15            Dr. Shahida Abbas MD   \n",
       "16            Dr. Arshia Abbasi MD   \n",
       "17            Dr. Faheem Abbasi MD   \n",
       "18          Dr. Muhammad Abbasi MD   \n",
       "19   Dr. Muhammad Rashid Abbasi MD   \n",
       "\n",
       "                             Specialised and Location  \n",
       "0                           Pediatrics, Princeton, NJ  \n",
       "1                                              Health  \n",
       "2                  Internal Medicine, Short Hills, NJ  \n",
       "3                             Cardiology, Neptune, NJ  \n",
       "4                     Family Medicine, Brigantine, NJ  \n",
       "5                          Surgery, Atlantic City, NJ  \n",
       "6                    Internal Medicine, Montville, NJ  \n",
       "7              Internal Medicine, Hamilton Square, NJ  \n",
       "8                             Other MD/DO, Newark, NJ  \n",
       "9                        Anesthesiology, Milltown, NJ  \n",
       "10           Obstetrics & Gynecology, Jersey City, NJ  \n",
       "11                       Family Medicine, Trenton, NJ  \n",
       "12             Critical Care Medicine, Moorestown, NJ  \n",
       "13                    Internal Medicine, Sea Girt, NJ  \n",
       "14                            Psychiatry, Neptune, NJ  \n",
       "15                  Internal Medicine, Old Bridge, NJ  \n",
       "16                              Nephrology, Brick, NJ  \n",
       "17  Physical Medicine & Rehabilitation, North Brun...  \n",
       "18                       Oncology, Mountain Lakes, NJ  \n",
       "19                       Oncology, Mountain Lakes, NJ  "
      ]
     },
     "execution_count": 38,
     "metadata": {},
     "output_type": "execute_result"
    }
   ],
   "source": [
    "df"
   ]
  },
  {
   "cell_type": "code",
   "execution_count": null,
   "metadata": {},
   "outputs": [],
   "source": []
  }
 ],
 "metadata": {
  "kernelspec": {
   "display_name": "Python 3",
   "language": "python",
   "name": "python3"
  },
  "language_info": {
   "codemirror_mode": {
    "name": "ipython",
    "version": 3
   },
   "file_extension": ".py",
   "mimetype": "text/x-python",
   "name": "python",
   "nbconvert_exporter": "python",
   "pygments_lexer": "ipython3",
   "version": "3.6.4"
  }
 },
 "nbformat": 4,
 "nbformat_minor": 2
}

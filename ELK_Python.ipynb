{
 "cells": [
  {
   "cell_type": "code",
   "execution_count": 21,
   "metadata": {},
   "outputs": [],
   "source": [
    "import urllib.request\n",
    "import urllib.parse\n",
    "from bs4 import BeautifulSoup\n",
    "\n",
    "\n",
    "url = 'https://health.usnews.com/doctors/new-jersey'\n",
    "\n",
    "#data = data.encode('utf-8')\n",
    "\n",
    "headers = {}\n",
    "headers['User-Agent'] = \"Mozilla/5.0 (X11; Linux i686)\"\n",
    "\n",
    "req = urllib.request.Request(url, headers=headers)\n",
    "resp = urllib.request.urlopen(req)\n",
    "resp_data = resp.read()\n",
    "\n",
    "#print(resp_data)"
   ]
  },
  {
   "cell_type": "code",
   "execution_count": 22,
   "metadata": {},
   "outputs": [],
   "source": [
    "soup = BeautifulSoup(resp_data, 'html.parser')"
   ]
  },
  {
   "cell_type": "code",
   "execution_count": 23,
   "metadata": {},
   "outputs": [],
   "source": [
    "#print (soup)"
   ]
  },
  {
   "cell_type": "code",
   "execution_count": 24,
   "metadata": {},
   "outputs": [],
   "source": [
    "doc = soup.findAll('a', {'class': 'search-result-link bar-tighter'})"
   ]
  },
  {
   "cell_type": "code",
   "execution_count": 25,
   "metadata": {},
   "outputs": [],
   "source": [
    "#for do in doc:\n",
    "    #print ('https://health.usnews.com' + do.get('href', None))"
   ]
  },
  {
   "cell_type": "code",
   "execution_count": 26,
   "metadata": {},
   "outputs": [],
   "source": [
    "links = ['https://health.usnews.com' + do.get('href', None) for do in doc]"
   ]
  },
  {
   "cell_type": "code",
   "execution_count": 27,
   "metadata": {},
   "outputs": [],
   "source": [
    "#from collections import defaultdict\n",
    "#data=defaultdict(list)\n",
    "import re"
   ]
  },
  {
   "cell_type": "code",
   "execution_count": 28,
   "metadata": {},
   "outputs": [],
   "source": [
    "#for link in links:\n",
    "    #headers = {}\n",
    "    #headers['User-Agent'] = \"Mozilla/5.0 (X11; Linux i686)\"\n",
    "    #doc_req = urllib.request.Request(link,headers=headers)\n",
    "    #doc_resp = urllib.request.urlopen(doc_req)\n",
    "    #doc_resp_data = doc_resp.read()\n",
    "    #doc_soup = BeautifulSoup(doc_resp_data, 'html.parser')\n",
    "    #doc_name = doc_soup.find('h1')\n",
    "    #doc_name_text =  (doc_name.text).strip()\n",
    "    #print (doc_name_text)\n",
    "    ######join = \"\".join(line.strip() for line in doc_name_text.split(\"\\n\"))\n",
    "    #doc_overview = doc_soup.find('p')\n",
    "    #doc_overview_text = (doc_overview.text)\n",
    "    #print ('Location :', doc_overview_text)\n",
    "    "
   ]
  },
  {
   "cell_type": "code",
   "execution_count": 29,
   "metadata": {},
   "outputs": [],
   "source": [
    "#for link in links:\n",
    "    #headers = {}\n",
    "    #results = {}\n",
    "    #headers['User-Agent'] = \"Mozilla/5.0 (X11; Linux i686)\"\n",
    "    #doc_req = urllib.request.Request(link,headers=headers)\n",
    "    #doc_resp = urllib.request.urlopen(doc_req)\n",
    "    #doc_resp_data = doc_resp.read()\n",
    "    #doc_soup = BeautifulSoup(doc_resp_data, 'html.parser')\n",
    "    #doc_name = doc_soup.find('h1')\n",
    "    #doc_name_text =  (doc_name.text).strip()\n",
    "    #doc_name_text_mod = (re.sub('\\s+', ' ', doc_name_text))\n",
    "    #print (doc_name_text)\n",
    "    ######join = \"\".join(line.strip() for line in doc_name_text.split(\"\\n\"))\n",
    "    #doc_overview = doc_soup.find('p')\n",
    "    #doc_overview_text = (doc_overview.text).strip()\n",
    "    #doc_overview_text_mod = (re.sub('\\n\\| ', ', ', doc_overview_text))\n",
    "    #print ('Location :', doc_overview_text)\n",
    "    #results[doc_name_text_mod] = doc_overview_text_mod\n",
    "    #print (results)\n",
    "    "
   ]
  },
  {
   "cell_type": "code",
   "execution_count": 30,
   "metadata": {},
   "outputs": [],
   "source": [
    "def extract_data():\n",
    "            headers = {}\n",
    "            doctor = []\n",
    "            headers['User-Agent'] = \"Mozilla/5.0 (X11; Linux i686)\"\n",
    "            doc_req = urllib.request.Request(link,headers=headers)\n",
    "            doc_resp = urllib.request.urlopen(doc_req)\n",
    "            doc_resp_data = doc_resp.read()\n",
    "            doc_soup = BeautifulSoup(doc_resp_data, 'html.parser')\n",
    "            doc_name = doc_soup.find('h1')\n",
    "            doc_name_text =  (doc_name.text).strip()\n",
    "            doc_name_text_mod = (re.sub('\\s+', ' ', doc_name_text))\n",
    "            doc_name_text_mod_1  = ('Name' ':' +doc_name_text_mod)\n",
    "            doctor.append(doc_name_text_mod_1)\n",
    "    \n",
    "            doc_overview = doc_soup.find('p')\n",
    "            doc_overview_text = (doc_overview.text).strip()\n",
    "            doc_overview_text_mod = (re.sub('\\n\\| ', ', ', doc_overview_text))\n",
    "            doc_overview_text_mod_1  = ('Specialised and Location' ':' + doc_overview_text_mod)\n",
    "            doctor.append(doc_overview_text_mod_1)\n",
    "            #print (doctor)\n",
    "            dicto =  (dict(s.split(':') for s in doctor))\n",
    "            return dicto"
   ]
  },
  {
   "cell_type": "code",
   "execution_count": 12,
   "metadata": {},
   "outputs": [],
   "source": [
    "#dicto"
   ]
  },
  {
   "cell_type": "code",
   "execution_count": 12,
   "metadata": {},
   "outputs": [],
   "source": [
    "import time \n",
    "import os\n",
    "import timeit\n",
    "from joblib import Parallel, delayed"
   ]
  },
  {
   "cell_type": "code",
   "execution_count": null,
   "metadata": {},
   "outputs": [],
   "source": [
    "links = ['https://health.usnews.com' + do.get('href', None) for do in doc]\n",
    "#(extract_data(link) for link in (links))\n",
    "for link in links:\n",
    "    extract_data(link)\n",
    "    "
   ]
  },
  {
   "cell_type": "code",
   "execution_count": 20,
   "metadata": {},
   "outputs": [
    {
     "name": "stderr",
     "output_type": "stream",
     "text": [
      "[Parallel(n_jobs=1)]: Using backend SequentialBackend with 1 concurrent workers.\n"
     ]
    },
    {
     "ename": "TypeError",
     "evalue": "extract_data() takes 0 positional arguments but 1 was given",
     "output_type": "error",
     "traceback": [
      "\u001b[0;31m---------------------------------------------------------------------------\u001b[0m",
      "\u001b[0;31mTypeError\u001b[0m                                 Traceback (most recent call last)",
      "\u001b[0;32m<ipython-input-20-2c9ba2541bd6>\u001b[0m in \u001b[0;36m<module>\u001b[0;34m()\u001b[0m\n\u001b[1;32m      2\u001b[0m \u001b[0;34m\u001b[0m\u001b[0m\n\u001b[1;32m      3\u001b[0m     \u001b[0mlinks\u001b[0m \u001b[0;34m=\u001b[0m \u001b[0;34m[\u001b[0m\u001b[0;34m'https://health.usnews.com'\u001b[0m \u001b[0;34m+\u001b[0m \u001b[0mdo\u001b[0m\u001b[0;34m.\u001b[0m\u001b[0mget\u001b[0m\u001b[0;34m(\u001b[0m\u001b[0;34m'href'\u001b[0m\u001b[0;34m,\u001b[0m \u001b[0;32mNone\u001b[0m\u001b[0;34m)\u001b[0m \u001b[0;32mfor\u001b[0m \u001b[0mdo\u001b[0m \u001b[0;32min\u001b[0m \u001b[0mdoc\u001b[0m\u001b[0;34m]\u001b[0m\u001b[0;34m\u001b[0m\u001b[0m\n\u001b[0;32m----> 4\u001b[0;31m     \u001b[0mr\u001b[0m \u001b[0;34m=\u001b[0m \u001b[0mParallel\u001b[0m\u001b[0;34m(\u001b[0m\u001b[0mn_jobs\u001b[0m\u001b[0;34m=\u001b[0m\u001b[0;36m1\u001b[0m\u001b[0;34m,\u001b[0m \u001b[0mverbose\u001b[0m\u001b[0;34m=\u001b[0m\u001b[0;36m1\u001b[0m\u001b[0;34m)\u001b[0m\u001b[0;34m(\u001b[0m\u001b[0mdelayed\u001b[0m\u001b[0;34m(\u001b[0m\u001b[0mextract_data\u001b[0m\u001b[0;34m)\u001b[0m\u001b[0;34m(\u001b[0m\u001b[0mlink\u001b[0m\u001b[0;34m)\u001b[0m \u001b[0;32mfor\u001b[0m \u001b[0mlink\u001b[0m \u001b[0;32min\u001b[0m \u001b[0;34m(\u001b[0m\u001b[0mlinks\u001b[0m\u001b[0;34m)\u001b[0m\u001b[0;34m)\u001b[0m\u001b[0;34m\u001b[0m\u001b[0m\n\u001b[0m\u001b[1;32m      5\u001b[0m \u001b[0;34m\u001b[0m\u001b[0m\n",
      "\u001b[0;32m~/.local/lib/python3.6/site-packages/joblib/parallel.py\u001b[0m in \u001b[0;36m__call__\u001b[0;34m(self, iterable)\u001b[0m\n\u001b[1;32m    979\u001b[0m             \u001b[0;31m# remaining jobs.\u001b[0m\u001b[0;34m\u001b[0m\u001b[0;34m\u001b[0m\u001b[0m\n\u001b[1;32m    980\u001b[0m             \u001b[0mself\u001b[0m\u001b[0;34m.\u001b[0m\u001b[0m_iterating\u001b[0m \u001b[0;34m=\u001b[0m \u001b[0;32mFalse\u001b[0m\u001b[0;34m\u001b[0m\u001b[0m\n\u001b[0;32m--> 981\u001b[0;31m             \u001b[0;32mif\u001b[0m \u001b[0mself\u001b[0m\u001b[0;34m.\u001b[0m\u001b[0mdispatch_one_batch\u001b[0m\u001b[0;34m(\u001b[0m\u001b[0miterator\u001b[0m\u001b[0;34m)\u001b[0m\u001b[0;34m:\u001b[0m\u001b[0;34m\u001b[0m\u001b[0m\n\u001b[0m\u001b[1;32m    982\u001b[0m                 \u001b[0mself\u001b[0m\u001b[0;34m.\u001b[0m\u001b[0m_iterating\u001b[0m \u001b[0;34m=\u001b[0m \u001b[0mself\u001b[0m\u001b[0;34m.\u001b[0m\u001b[0m_original_iterator\u001b[0m \u001b[0;32mis\u001b[0m \u001b[0;32mnot\u001b[0m \u001b[0;32mNone\u001b[0m\u001b[0;34m\u001b[0m\u001b[0m\n\u001b[1;32m    983\u001b[0m \u001b[0;34m\u001b[0m\u001b[0m\n",
      "\u001b[0;32m~/.local/lib/python3.6/site-packages/joblib/parallel.py\u001b[0m in \u001b[0;36mdispatch_one_batch\u001b[0;34m(self, iterator)\u001b[0m\n\u001b[1;32m    821\u001b[0m                 \u001b[0;32mreturn\u001b[0m \u001b[0;32mFalse\u001b[0m\u001b[0;34m\u001b[0m\u001b[0m\n\u001b[1;32m    822\u001b[0m             \u001b[0;32melse\u001b[0m\u001b[0;34m:\u001b[0m\u001b[0;34m\u001b[0m\u001b[0m\n\u001b[0;32m--> 823\u001b[0;31m                 \u001b[0mself\u001b[0m\u001b[0;34m.\u001b[0m\u001b[0m_dispatch\u001b[0m\u001b[0;34m(\u001b[0m\u001b[0mtasks\u001b[0m\u001b[0;34m)\u001b[0m\u001b[0;34m\u001b[0m\u001b[0m\n\u001b[0m\u001b[1;32m    824\u001b[0m                 \u001b[0;32mreturn\u001b[0m \u001b[0;32mTrue\u001b[0m\u001b[0;34m\u001b[0m\u001b[0m\n\u001b[1;32m    825\u001b[0m \u001b[0;34m\u001b[0m\u001b[0m\n",
      "\u001b[0;32m~/.local/lib/python3.6/site-packages/joblib/parallel.py\u001b[0m in \u001b[0;36m_dispatch\u001b[0;34m(self, batch)\u001b[0m\n\u001b[1;32m    778\u001b[0m         \u001b[0;32mwith\u001b[0m \u001b[0mself\u001b[0m\u001b[0;34m.\u001b[0m\u001b[0m_lock\u001b[0m\u001b[0;34m:\u001b[0m\u001b[0;34m\u001b[0m\u001b[0m\n\u001b[1;32m    779\u001b[0m             \u001b[0mjob_idx\u001b[0m \u001b[0;34m=\u001b[0m \u001b[0mlen\u001b[0m\u001b[0;34m(\u001b[0m\u001b[0mself\u001b[0m\u001b[0;34m.\u001b[0m\u001b[0m_jobs\u001b[0m\u001b[0;34m)\u001b[0m\u001b[0;34m\u001b[0m\u001b[0m\n\u001b[0;32m--> 780\u001b[0;31m             \u001b[0mjob\u001b[0m \u001b[0;34m=\u001b[0m \u001b[0mself\u001b[0m\u001b[0;34m.\u001b[0m\u001b[0m_backend\u001b[0m\u001b[0;34m.\u001b[0m\u001b[0mapply_async\u001b[0m\u001b[0;34m(\u001b[0m\u001b[0mbatch\u001b[0m\u001b[0;34m,\u001b[0m \u001b[0mcallback\u001b[0m\u001b[0;34m=\u001b[0m\u001b[0mcb\u001b[0m\u001b[0;34m)\u001b[0m\u001b[0;34m\u001b[0m\u001b[0m\n\u001b[0m\u001b[1;32m    781\u001b[0m             \u001b[0;31m# A job can complete so quickly than its callback is\u001b[0m\u001b[0;34m\u001b[0m\u001b[0;34m\u001b[0m\u001b[0m\n\u001b[1;32m    782\u001b[0m             \u001b[0;31m# called before we get here, causing self._jobs to\u001b[0m\u001b[0;34m\u001b[0m\u001b[0;34m\u001b[0m\u001b[0m\n",
      "\u001b[0;32m~/.local/lib/python3.6/site-packages/joblib/_parallel_backends.py\u001b[0m in \u001b[0;36mapply_async\u001b[0;34m(self, func, callback)\u001b[0m\n\u001b[1;32m    181\u001b[0m     \u001b[0;32mdef\u001b[0m \u001b[0mapply_async\u001b[0m\u001b[0;34m(\u001b[0m\u001b[0mself\u001b[0m\u001b[0;34m,\u001b[0m \u001b[0mfunc\u001b[0m\u001b[0;34m,\u001b[0m \u001b[0mcallback\u001b[0m\u001b[0;34m=\u001b[0m\u001b[0;32mNone\u001b[0m\u001b[0;34m)\u001b[0m\u001b[0;34m:\u001b[0m\u001b[0;34m\u001b[0m\u001b[0m\n\u001b[1;32m    182\u001b[0m         \u001b[0;34m\"\"\"Schedule a func to be run\"\"\"\u001b[0m\u001b[0;34m\u001b[0m\u001b[0m\n\u001b[0;32m--> 183\u001b[0;31m         \u001b[0mresult\u001b[0m \u001b[0;34m=\u001b[0m \u001b[0mImmediateResult\u001b[0m\u001b[0;34m(\u001b[0m\u001b[0mfunc\u001b[0m\u001b[0;34m)\u001b[0m\u001b[0;34m\u001b[0m\u001b[0m\n\u001b[0m\u001b[1;32m    184\u001b[0m         \u001b[0;32mif\u001b[0m \u001b[0mcallback\u001b[0m\u001b[0;34m:\u001b[0m\u001b[0;34m\u001b[0m\u001b[0m\n\u001b[1;32m    185\u001b[0m             \u001b[0mcallback\u001b[0m\u001b[0;34m(\u001b[0m\u001b[0mresult\u001b[0m\u001b[0;34m)\u001b[0m\u001b[0;34m\u001b[0m\u001b[0m\n",
      "\u001b[0;32m~/.local/lib/python3.6/site-packages/joblib/_parallel_backends.py\u001b[0m in \u001b[0;36m__init__\u001b[0;34m(self, batch)\u001b[0m\n\u001b[1;32m    541\u001b[0m         \u001b[0;31m# Don't delay the application, to avoid keeping the input\u001b[0m\u001b[0;34m\u001b[0m\u001b[0;34m\u001b[0m\u001b[0m\n\u001b[1;32m    542\u001b[0m         \u001b[0;31m# arguments in memory\u001b[0m\u001b[0;34m\u001b[0m\u001b[0;34m\u001b[0m\u001b[0m\n\u001b[0;32m--> 543\u001b[0;31m         \u001b[0mself\u001b[0m\u001b[0;34m.\u001b[0m\u001b[0mresults\u001b[0m \u001b[0;34m=\u001b[0m \u001b[0mbatch\u001b[0m\u001b[0;34m(\u001b[0m\u001b[0;34m)\u001b[0m\u001b[0;34m\u001b[0m\u001b[0m\n\u001b[0m\u001b[1;32m    544\u001b[0m \u001b[0;34m\u001b[0m\u001b[0m\n\u001b[1;32m    545\u001b[0m     \u001b[0;32mdef\u001b[0m \u001b[0mget\u001b[0m\u001b[0;34m(\u001b[0m\u001b[0mself\u001b[0m\u001b[0;34m)\u001b[0m\u001b[0;34m:\u001b[0m\u001b[0;34m\u001b[0m\u001b[0m\n",
      "\u001b[0;32m~/.local/lib/python3.6/site-packages/joblib/parallel.py\u001b[0m in \u001b[0;36m__call__\u001b[0;34m(self)\u001b[0m\n\u001b[1;32m    259\u001b[0m         \u001b[0;32mwith\u001b[0m \u001b[0mparallel_backend\u001b[0m\u001b[0;34m(\u001b[0m\u001b[0mself\u001b[0m\u001b[0;34m.\u001b[0m\u001b[0m_backend\u001b[0m\u001b[0;34m)\u001b[0m\u001b[0;34m:\u001b[0m\u001b[0;34m\u001b[0m\u001b[0m\n\u001b[1;32m    260\u001b[0m             return [func(*args, **kwargs)\n\u001b[0;32m--> 261\u001b[0;31m                     for func, args, kwargs in self.items]\n\u001b[0m\u001b[1;32m    262\u001b[0m \u001b[0;34m\u001b[0m\u001b[0m\n\u001b[1;32m    263\u001b[0m     \u001b[0;32mdef\u001b[0m \u001b[0m__len__\u001b[0m\u001b[0;34m(\u001b[0m\u001b[0mself\u001b[0m\u001b[0;34m)\u001b[0m\u001b[0;34m:\u001b[0m\u001b[0;34m\u001b[0m\u001b[0m\n",
      "\u001b[0;32m~/.local/lib/python3.6/site-packages/joblib/parallel.py\u001b[0m in \u001b[0;36m<listcomp>\u001b[0;34m(.0)\u001b[0m\n\u001b[1;32m    259\u001b[0m         \u001b[0;32mwith\u001b[0m \u001b[0mparallel_backend\u001b[0m\u001b[0;34m(\u001b[0m\u001b[0mself\u001b[0m\u001b[0;34m.\u001b[0m\u001b[0m_backend\u001b[0m\u001b[0;34m)\u001b[0m\u001b[0;34m:\u001b[0m\u001b[0;34m\u001b[0m\u001b[0m\n\u001b[1;32m    260\u001b[0m             return [func(*args, **kwargs)\n\u001b[0;32m--> 261\u001b[0;31m                     for func, args, kwargs in self.items]\n\u001b[0m\u001b[1;32m    262\u001b[0m \u001b[0;34m\u001b[0m\u001b[0m\n\u001b[1;32m    263\u001b[0m     \u001b[0;32mdef\u001b[0m \u001b[0m__len__\u001b[0m\u001b[0;34m(\u001b[0m\u001b[0mself\u001b[0m\u001b[0;34m)\u001b[0m\u001b[0;34m:\u001b[0m\u001b[0;34m\u001b[0m\u001b[0m\n",
      "\u001b[0;31mTypeError\u001b[0m: extract_data() takes 0 positional arguments but 1 was given"
     ]
    }
   ],
   "source": [
    "if __name__ == '__main__':\n",
    "    \n",
    "    links = ['https://health.usnews.com' + do.get('href', None) for do in doc]\n",
    "    r = Parallel(n_jobs=1, verbose=1)(delayed(extract_data)(link) for link in (links))\n",
    "    "
   ]
  },
  {
   "cell_type": "code",
   "execution_count": 54,
   "metadata": {},
   "outputs": [
    {
     "data": {
      "text/plain": [
       "[{'Name': 'Dr. Tajwar Aamir MD',\n",
       "  'Specialised and Location': 'Pediatrics, Princeton, NJ'},\n",
       " {'Name': 'Dr. Tajwar Aamir MD',\n",
       "  'Specialised and Location': 'Pediatrics, Princeton, NJ'},\n",
       " {'Name': 'Dr. Tajwar Aamir MD',\n",
       "  'Specialised and Location': 'Pediatrics, Princeton, NJ'},\n",
       " {'Name': 'Dr. Tajwar Aamir MD',\n",
       "  'Specialised and Location': 'Pediatrics, Princeton, NJ'},\n",
       " {'Name': 'Dr. Tajwar Aamir MD',\n",
       "  'Specialised and Location': 'Pediatrics, Princeton, NJ'},\n",
       " {'Name': 'Dr. Tajwar Aamir MD',\n",
       "  'Specialised and Location': 'Pediatrics, Princeton, NJ'},\n",
       " {'Name': 'Dr. Tajwar Aamir MD',\n",
       "  'Specialised and Location': 'Pediatrics, Princeton, NJ'},\n",
       " {'Name': 'Dr. Tajwar Aamir MD',\n",
       "  'Specialised and Location': 'Pediatrics, Princeton, NJ'},\n",
       " {'Name': 'Dr. Tajwar Aamir MD',\n",
       "  'Specialised and Location': 'Pediatrics, Princeton, NJ'},\n",
       " {'Name': 'Dr. Tajwar Aamir MD',\n",
       "  'Specialised and Location': 'Pediatrics, Princeton, NJ'},\n",
       " {'Name': 'Dr. Tajwar Aamir MD',\n",
       "  'Specialised and Location': 'Pediatrics, Princeton, NJ'},\n",
       " {'Name': 'Dr. Tajwar Aamir MD',\n",
       "  'Specialised and Location': 'Pediatrics, Princeton, NJ'},\n",
       " {'Name': 'Dr. Tajwar Aamir MD',\n",
       "  'Specialised and Location': 'Pediatrics, Princeton, NJ'},\n",
       " {'Name': 'Dr. Tajwar Aamir MD',\n",
       "  'Specialised and Location': 'Pediatrics, Princeton, NJ'},\n",
       " {'Name': 'Dr. Tajwar Aamir MD',\n",
       "  'Specialised and Location': 'Pediatrics, Princeton, NJ'},\n",
       " {'Name': 'Dr. Tajwar Aamir MD',\n",
       "  'Specialised and Location': 'Pediatrics, Princeton, NJ'},\n",
       " {'Name': 'Dr. Tajwar Aamir MD',\n",
       "  'Specialised and Location': 'Pediatrics, Princeton, NJ'},\n",
       " {'Name': 'Dr. Tajwar Aamir MD',\n",
       "  'Specialised and Location': 'Pediatrics, Princeton, NJ'},\n",
       " {'Name': 'Dr. Tajwar Aamir MD',\n",
       "  'Specialised and Location': 'Pediatrics, Princeton, NJ'},\n",
       " {'Name': 'Dr. Tajwar Aamir MD',\n",
       "  'Specialised and Location': 'Pediatrics, Princeton, NJ'}]"
      ]
     },
     "execution_count": 54,
     "metadata": {},
     "output_type": "execute_result"
    }
   ],
   "source": [
    "r"
   ]
  },
  {
   "cell_type": "code",
   "execution_count": 55,
   "metadata": {},
   "outputs": [],
   "source": [
    "import pandas as pd"
   ]
  },
  {
   "cell_type": "code",
   "execution_count": 56,
   "metadata": {},
   "outputs": [],
   "source": [
    "df = pd.DataFrame(r)"
   ]
  },
  {
   "cell_type": "code",
   "execution_count": 57,
   "metadata": {},
   "outputs": [
    {
     "data": {
      "text/html": [
       "<div>\n",
       "<style scoped>\n",
       "    .dataframe tbody tr th:only-of-type {\n",
       "        vertical-align: middle;\n",
       "    }\n",
       "\n",
       "    .dataframe tbody tr th {\n",
       "        vertical-align: top;\n",
       "    }\n",
       "\n",
       "    .dataframe thead th {\n",
       "        text-align: right;\n",
       "    }\n",
       "</style>\n",
       "<table border=\"1\" class=\"dataframe\">\n",
       "  <thead>\n",
       "    <tr style=\"text-align: right;\">\n",
       "      <th></th>\n",
       "      <th>Name</th>\n",
       "      <th>Specialised and Location</th>\n",
       "    </tr>\n",
       "  </thead>\n",
       "  <tbody>\n",
       "    <tr>\n",
       "      <th>0</th>\n",
       "      <td>Dr. Tajwar Aamir MD</td>\n",
       "      <td>Pediatrics, Princeton, NJ</td>\n",
       "    </tr>\n",
       "    <tr>\n",
       "      <th>1</th>\n",
       "      <td>Dr. Tajwar Aamir MD</td>\n",
       "      <td>Pediatrics, Princeton, NJ</td>\n",
       "    </tr>\n",
       "    <tr>\n",
       "      <th>2</th>\n",
       "      <td>Dr. Tajwar Aamir MD</td>\n",
       "      <td>Pediatrics, Princeton, NJ</td>\n",
       "    </tr>\n",
       "    <tr>\n",
       "      <th>3</th>\n",
       "      <td>Dr. Tajwar Aamir MD</td>\n",
       "      <td>Pediatrics, Princeton, NJ</td>\n",
       "    </tr>\n",
       "    <tr>\n",
       "      <th>4</th>\n",
       "      <td>Dr. Tajwar Aamir MD</td>\n",
       "      <td>Pediatrics, Princeton, NJ</td>\n",
       "    </tr>\n",
       "    <tr>\n",
       "      <th>5</th>\n",
       "      <td>Dr. Tajwar Aamir MD</td>\n",
       "      <td>Pediatrics, Princeton, NJ</td>\n",
       "    </tr>\n",
       "    <tr>\n",
       "      <th>6</th>\n",
       "      <td>Dr. Tajwar Aamir MD</td>\n",
       "      <td>Pediatrics, Princeton, NJ</td>\n",
       "    </tr>\n",
       "    <tr>\n",
       "      <th>7</th>\n",
       "      <td>Dr. Tajwar Aamir MD</td>\n",
       "      <td>Pediatrics, Princeton, NJ</td>\n",
       "    </tr>\n",
       "    <tr>\n",
       "      <th>8</th>\n",
       "      <td>Dr. Tajwar Aamir MD</td>\n",
       "      <td>Pediatrics, Princeton, NJ</td>\n",
       "    </tr>\n",
       "    <tr>\n",
       "      <th>9</th>\n",
       "      <td>Dr. Tajwar Aamir MD</td>\n",
       "      <td>Pediatrics, Princeton, NJ</td>\n",
       "    </tr>\n",
       "    <tr>\n",
       "      <th>10</th>\n",
       "      <td>Dr. Tajwar Aamir MD</td>\n",
       "      <td>Pediatrics, Princeton, NJ</td>\n",
       "    </tr>\n",
       "    <tr>\n",
       "      <th>11</th>\n",
       "      <td>Dr. Tajwar Aamir MD</td>\n",
       "      <td>Pediatrics, Princeton, NJ</td>\n",
       "    </tr>\n",
       "    <tr>\n",
       "      <th>12</th>\n",
       "      <td>Dr. Tajwar Aamir MD</td>\n",
       "      <td>Pediatrics, Princeton, NJ</td>\n",
       "    </tr>\n",
       "    <tr>\n",
       "      <th>13</th>\n",
       "      <td>Dr. Tajwar Aamir MD</td>\n",
       "      <td>Pediatrics, Princeton, NJ</td>\n",
       "    </tr>\n",
       "    <tr>\n",
       "      <th>14</th>\n",
       "      <td>Dr. Tajwar Aamir MD</td>\n",
       "      <td>Pediatrics, Princeton, NJ</td>\n",
       "    </tr>\n",
       "    <tr>\n",
       "      <th>15</th>\n",
       "      <td>Dr. Tajwar Aamir MD</td>\n",
       "      <td>Pediatrics, Princeton, NJ</td>\n",
       "    </tr>\n",
       "    <tr>\n",
       "      <th>16</th>\n",
       "      <td>Dr. Tajwar Aamir MD</td>\n",
       "      <td>Pediatrics, Princeton, NJ</td>\n",
       "    </tr>\n",
       "    <tr>\n",
       "      <th>17</th>\n",
       "      <td>Dr. Tajwar Aamir MD</td>\n",
       "      <td>Pediatrics, Princeton, NJ</td>\n",
       "    </tr>\n",
       "    <tr>\n",
       "      <th>18</th>\n",
       "      <td>Dr. Tajwar Aamir MD</td>\n",
       "      <td>Pediatrics, Princeton, NJ</td>\n",
       "    </tr>\n",
       "    <tr>\n",
       "      <th>19</th>\n",
       "      <td>Dr. Tajwar Aamir MD</td>\n",
       "      <td>Pediatrics, Princeton, NJ</td>\n",
       "    </tr>\n",
       "  </tbody>\n",
       "</table>\n",
       "</div>"
      ],
      "text/plain": [
       "                   Name   Specialised and Location\n",
       "0   Dr. Tajwar Aamir MD  Pediatrics, Princeton, NJ\n",
       "1   Dr. Tajwar Aamir MD  Pediatrics, Princeton, NJ\n",
       "2   Dr. Tajwar Aamir MD  Pediatrics, Princeton, NJ\n",
       "3   Dr. Tajwar Aamir MD  Pediatrics, Princeton, NJ\n",
       "4   Dr. Tajwar Aamir MD  Pediatrics, Princeton, NJ\n",
       "5   Dr. Tajwar Aamir MD  Pediatrics, Princeton, NJ\n",
       "6   Dr. Tajwar Aamir MD  Pediatrics, Princeton, NJ\n",
       "7   Dr. Tajwar Aamir MD  Pediatrics, Princeton, NJ\n",
       "8   Dr. Tajwar Aamir MD  Pediatrics, Princeton, NJ\n",
       "9   Dr. Tajwar Aamir MD  Pediatrics, Princeton, NJ\n",
       "10  Dr. Tajwar Aamir MD  Pediatrics, Princeton, NJ\n",
       "11  Dr. Tajwar Aamir MD  Pediatrics, Princeton, NJ\n",
       "12  Dr. Tajwar Aamir MD  Pediatrics, Princeton, NJ\n",
       "13  Dr. Tajwar Aamir MD  Pediatrics, Princeton, NJ\n",
       "14  Dr. Tajwar Aamir MD  Pediatrics, Princeton, NJ\n",
       "15  Dr. Tajwar Aamir MD  Pediatrics, Princeton, NJ\n",
       "16  Dr. Tajwar Aamir MD  Pediatrics, Princeton, NJ\n",
       "17  Dr. Tajwar Aamir MD  Pediatrics, Princeton, NJ\n",
       "18  Dr. Tajwar Aamir MD  Pediatrics, Princeton, NJ\n",
       "19  Dr. Tajwar Aamir MD  Pediatrics, Princeton, NJ"
      ]
     },
     "execution_count": 57,
     "metadata": {},
     "output_type": "execute_result"
    }
   ],
   "source": [
    "df"
   ]
  },
  {
   "cell_type": "code",
   "execution_count": null,
   "metadata": {},
   "outputs": [],
   "source": []
  }
 ],
 "metadata": {
  "kernelspec": {
   "display_name": "Python 3",
   "language": "python",
   "name": "python3"
  },
  "language_info": {
   "codemirror_mode": {
    "name": "ipython",
    "version": 3
   },
   "file_extension": ".py",
   "mimetype": "text/x-python",
   "name": "python",
   "nbconvert_exporter": "python",
   "pygments_lexer": "ipython3",
   "version": "3.6.4"
  }
 },
 "nbformat": 4,
 "nbformat_minor": 2
}

{
 "cells": [
  {
   "cell_type": "code",
   "execution_count": 40,
   "metadata": {},
   "outputs": [],
   "source": [
    "import urllib.request\n",
    "import urllib.parse\n",
    "from bs4 import BeautifulSoup\n",
    "\n",
    "\n",
    "url = 'https://health.usnews.com/doctors/new-jersey'\n",
    "\n",
    "#data = data.encode('utf-8')\n",
    "\n",
    "headers = {}\n",
    "headers['User-Agent'] = \"Mozilla/5.0 (X11; Linux i686)\"\n",
    "\n",
    "req = urllib.request.Request(url, headers=headers)\n",
    "resp = urllib.request.urlopen(req)\n",
    "resp_data = resp.read()\n",
    "\n",
    "#print(resp_data)"
   ]
  },
  {
   "cell_type": "code",
   "execution_count": 41,
   "metadata": {},
   "outputs": [],
   "source": [
    "soup = BeautifulSoup(resp_data, 'html.parser')"
   ]
  },
  {
   "cell_type": "code",
   "execution_count": 42,
   "metadata": {},
   "outputs": [],
   "source": [
    "#print (soup)"
   ]
  },
  {
   "cell_type": "code",
   "execution_count": 43,
   "metadata": {},
   "outputs": [],
   "source": [
    "doc = soup.findAll('a', {'class': 'search-result-link bar-tighter'})"
   ]
  },
  {
   "cell_type": "code",
   "execution_count": 44,
   "metadata": {},
   "outputs": [],
   "source": [
    "#for do in doc:\n",
    "    #print ('https://health.usnews.com' + do.get('href', None))"
   ]
  },
  {
   "cell_type": "code",
   "execution_count": 45,
   "metadata": {},
   "outputs": [],
   "source": [
    "links = ['https://health.usnews.com' + do.get('href', None) for do in doc]"
   ]
  },
  {
   "cell_type": "code",
   "execution_count": 46,
   "metadata": {},
   "outputs": [],
   "source": [
    "#from collections import defaultdict\n",
    "#data=defaultdict(list)\n",
    "import re"
   ]
  },
  {
   "cell_type": "code",
   "execution_count": 47,
   "metadata": {},
   "outputs": [],
   "source": [
    "#for link in links:\n",
    "    #headers = {}\n",
    "    #headers['User-Agent'] = \"Mozilla/5.0 (X11; Linux i686)\"\n",
    "    #doc_req = urllib.request.Request(link,headers=headers)\n",
    "    #doc_resp = urllib.request.urlopen(doc_req)\n",
    "    #doc_resp_data = doc_resp.read()\n",
    "    #doc_soup = BeautifulSoup(doc_resp_data, 'html.parser')\n",
    "    #doc_name = doc_soup.find('h1')\n",
    "    #doc_name_text =  (doc_name.text).strip()\n",
    "    #print (doc_name_text)\n",
    "    ######join = \"\".join(line.strip() for line in doc_name_text.split(\"\\n\"))\n",
    "    #doc_overview = doc_soup.find('p')\n",
    "    #doc_overview_text = (doc_overview.text)\n",
    "    #print ('Location :', doc_overview_text)\n",
    "    "
   ]
  },
  {
   "cell_type": "code",
   "execution_count": 48,
   "metadata": {},
   "outputs": [],
   "source": [
    "#for link in links:\n",
    "    #headers = {}\n",
    "    #results = {}\n",
    "    #headers['User-Agent'] = \"Mozilla/5.0 (X11; Linux i686)\"\n",
    "    #doc_req = urllib.request.Request(link,headers=headers)\n",
    "    #doc_resp = urllib.request.urlopen(doc_req)\n",
    "    #doc_resp_data = doc_resp.read()\n",
    "    #doc_soup = BeautifulSoup(doc_resp_data, 'html.parser')\n",
    "    #doc_name = doc_soup.find('h1')\n",
    "    #doc_name_text =  (doc_name.text).strip()\n",
    "    #doc_name_text_mod = (re.sub('\\s+', ' ', doc_name_text))\n",
    "    #print (doc_name_text)\n",
    "    ######join = \"\".join(line.strip() for line in doc_name_text.split(\"\\n\"))\n",
    "    #doc_overview = doc_soup.find('p')\n",
    "    #doc_overview_text = (doc_overview.text).strip()\n",
    "    #doc_overview_text_mod = (re.sub('\\n\\| ', ', ', doc_overview_text))\n",
    "    #print ('Location :', doc_overview_text)\n",
    "    #results[doc_name_text_mod] = doc_overview_text_mod\n",
    "    #print (results)\n",
    "    "
   ]
  },
  {
   "cell_type": "code",
   "execution_count": 50,
   "metadata": {},
   "outputs": [],
   "source": [
    "def extract_data(link):\n",
    "        for link in links:\n",
    "            headers = {}\n",
    "            doctor = []\n",
    "            headers['User-Agent'] = \"Mozilla/5.0 (X11; Linux i686)\"\n",
    "            doc_req = urllib.request.Request(link,headers=headers)\n",
    "            doc_resp = urllib.request.urlopen(doc_req)\n",
    "            doc_resp_data = doc_resp.read()\n",
    "            doc_soup = BeautifulSoup(doc_resp_data, 'html.parser')\n",
    "            doc_name = doc_soup.find('h1')\n",
    "            doc_name_text =  (doc_name.text).strip()\n",
    "            doc_name_text_mod = (re.sub('\\s+', ' ', doc_name_text))\n",
    "            doc_name_text_mod_1  = ('Name' ':' +doc_name_text_mod)\n",
    "            doctor.append(doc_name_text_mod_1)\n",
    "    \n",
    "            doc_overview = doc_soup.find('p')\n",
    "            doc_overview_text = (doc_overview.text).strip()\n",
    "            doc_overview_text_mod = (re.sub('\\n\\| ', ', ', doc_overview_text))\n",
    "            doc_overview_text_mod_1  = ('Specialised and Location' ':' + doc_overview_text_mod)\n",
    "            doctor.append(doc_overview_text_mod_1)\n",
    "            #print (doctor)\n",
    "            dicto =  (dict(s.split(':') for s in doctor))\n",
    "            return dicto"
   ]
  },
  {
   "cell_type": "code",
   "execution_count": 33,
   "metadata": {},
   "outputs": [
    {
     "name": "stdout",
     "output_type": "stream",
     "text": [
      "{'Name': 'Dr. Tajwar Aamir MD', 'Specialised and Location': 'Pediatrics, Princeton, NJ'}\n",
      "{'Name': 'Dr. Bernard Aaron', 'Specialised and Location': 'Health'}\n",
      "{'Name': 'Dr. Joseph Aaron MD', 'Specialised and Location': 'Internal Medicine, Short Hills, NJ'}\n",
      "{'Name': 'Dr. Michael Aaron DO', 'Specialised and Location': 'Cardiology, Neptune, NJ'}\n",
      "{'Name': 'Dr. Darryl Aarons DO', 'Specialised and Location': 'Family Medicine, Brigantine, NJ'}\n",
      "{'Name': 'Dr. William Aarons MD', 'Specialised and Location': 'Surgery, Atlantic City, NJ'}\n",
      "{'Name': 'Dr. Sirike Aasmaa DO', 'Specialised and Location': 'Internal Medicine, Montville, NJ'}\n",
      "{'Name': 'Dr. Mario Abad MD', 'Specialised and Location': 'Internal Medicine, Hamilton Square, NJ'}\n",
      "{'Name': 'Dr. Bilal Abadi MD', 'Specialised and Location': 'Other MD/DO, Newark, NJ'}\n",
      "{'Name': 'Dr. Nelly Abadir MD', 'Specialised and Location': 'Anesthesiology, Milltown, NJ'}\n",
      "{'Name': 'Dr. Esmeralda Abano-Mendoza MD', 'Specialised and Location': 'Obstetrics & Gynecology, Jersey City, NJ'}\n",
      "{'Name': 'Dr. Antonio Abary MD', 'Specialised and Location': 'Family Medicine, Trenton, NJ'}\n",
      "{'Name': 'Dr. Nicole Abate MD', 'Specialised and Location': 'Critical Care Medicine, Moorestown, NJ'}\n",
      "{'Name': 'Dr. Holly Abate Bersalona MD', 'Specialised and Location': 'Internal Medicine, Sea Girt, NJ'}\n",
      "{'Name': 'Dr. Muhammad Abbas MD', 'Specialised and Location': 'Psychiatry, Neptune, NJ'}\n",
      "{'Name': 'Dr. Shahida Abbas MD', 'Specialised and Location': 'Internal Medicine, Old Bridge, NJ'}\n",
      "{'Name': 'Dr. Arshia Abbasi MD', 'Specialised and Location': 'Nephrology, Brick, NJ'}\n",
      "{'Name': 'Dr. Faheem Abbasi MD', 'Specialised and Location': 'Physical Medicine & Rehabilitation, North Brunswick, NJ'}\n",
      "{'Name': 'Dr. Muhammad Abbasi MD', 'Specialised and Location': 'Oncology, Mountain Lakes, NJ'}\n",
      "{'Name': 'Dr. Muhammad Rashid Abbasi MD', 'Specialised and Location': 'Oncology, Mountain Lakes, NJ'}\n"
     ]
    }
   ],
   "source": [
    "##SUcccess without multi threading\n",
    "for link in links:\n",
    "    headers = {}\n",
    "    doctor = []\n",
    "    headers['User-Agent'] = \"Mozilla/5.0 (X11; Linux i686)\"\n",
    "    doc_req = urllib.request.Request(link,headers=headers)\n",
    "    doc_resp = urllib.request.urlopen(doc_req)\n",
    "    doc_resp_data = doc_resp.read()\n",
    "    doc_soup = BeautifulSoup(doc_resp_data, 'html.parser')\n",
    "    doc_name = doc_soup.find('h1')\n",
    "    doc_name_text =  (doc_name.text).strip()\n",
    "    doc_name_text_mod = (re.sub('\\s+', ' ', doc_name_text))\n",
    "    doc_name_text_mod_1  = ('Name' ':' +doc_name_text_mod)\n",
    "    doctor.append(doc_name_text_mod_1)\n",
    "    \n",
    "    doc_overview = doc_soup.find('p')\n",
    "    doc_overview_text = (doc_overview.text).strip()\n",
    "    doc_overview_text_mod = (re.sub('\\n\\| ', ', ', doc_overview_text))\n",
    "    doc_overview_text_mod_1  = ('Specialised and Location' ':' + doc_overview_text_mod)\n",
    "    doctor.append(doc_overview_text_mod_1)\n",
    "    #print (doctor)\n",
    "    dicto =  (dict(s.split(':') for s in doctor))\n",
    "    print(dicto)"
   ]
  },
  {
   "cell_type": "code",
   "execution_count": 12,
   "metadata": {},
   "outputs": [],
   "source": [
    "#dicto"
   ]
  },
  {
   "cell_type": "code",
   "execution_count": 51,
   "metadata": {},
   "outputs": [],
   "source": [
    "import time \n",
    "import os\n",
    "import timeit\n",
    "from joblib import Parallel, delayed"
   ]
  },
  {
   "cell_type": "code",
   "execution_count": 52,
   "metadata": {},
   "outputs": [
    {
     "data": {
      "text/plain": [
       "'{\"Name\": \"Dr. Tajwar Aamir MD\", \"Specialised and Location\": \"Pediatrics, Princeton, NJ\"}'"
      ]
     },
     "execution_count": 52,
     "metadata": {},
     "output_type": "execute_result"
    }
   ],
   "source": [
    "###Test json not a part of code\n",
    "import json\n",
    "\n",
    "data = {}\n",
    "data['key'] = 'value'\n",
    "json_data = json.dumps(data)\n",
    "my_json_string = json.dumps({'Name': 'Dr. Tajwar Aamir MD', 'Specialised and Location': 'Pediatrics, Princeton, NJ'})\n",
    "\n",
    "my_json_string"
   ]
  },
  {
   "cell_type": "code",
   "execution_count": 22,
   "metadata": {},
   "outputs": [
    {
     "name": "stdout",
     "output_type": "stream",
     "text": [
      "Start\n",
      "Process ID:  15769\n",
      "26038.884650907\n"
     ]
    },
    {
     "name": "stderr",
     "output_type": "stream",
     "text": [
      "[Parallel(n_jobs=2)]: Using backend LokyBackend with 2 concurrent workers.\n"
     ]
    },
    {
     "name": "stdout",
     "output_type": "stream",
     "text": [
      "Time for Cropping is - 16.58150397800273 seconds or 0.2763583996333788 minutes\n",
      "End\n"
     ]
    },
    {
     "name": "stderr",
     "output_type": "stream",
     "text": [
      "[Parallel(n_jobs=2)]: Done  20 out of  20 | elapsed:   16.6s finished\n"
     ]
    }
   ],
   "source": [
    "#Failed by multi threading\n",
    "#https://joblib.readthedocs.io/en/latest/parallel.html\n",
    "if __name__ == '__main__':\n",
    "    print (\"Start\")\n",
    "    start = timeit.default_timer()\n",
    "    print (\"Process ID: \",os.getpid())\n",
    "    print (start)\n",
    "    links = ['https://health.usnews.com' + do.get('href', None) for do in doc]\n",
    "    Parallel(n_jobs=2, verbose=1)(delayed(extract_data)(link) for link in (links))\n",
    "    extraction_time = timeit.default_timer()\n",
    "    exectime = extraction_time - start\n",
    "    print(\"Time for Cropping is -\", (exectime), \"seconds or\",(exectime)/60, \"minutes\")\n",
    "    print (\"End\")\n",
    "    "
   ]
  },
  {
   "cell_type": "code",
   "execution_count": null,
   "metadata": {},
   "outputs": [],
   "source": [
    "links = ['https://health.usnews.com' + do.get('href', None) for do in doc]\n",
    "#(extract_data(link) for link in (links))\n",
    "for link in links:\n",
    "    extract_data(link)\n",
    "    "
   ]
  },
  {
   "cell_type": "code",
   "execution_count": 53,
   "metadata": {},
   "outputs": [
    {
     "name": "stderr",
     "output_type": "stream",
     "text": [
      "[Parallel(n_jobs=1)]: Using backend SequentialBackend with 1 concurrent workers.\n",
      "[Parallel(n_jobs=1)]: Done  20 out of  20 | elapsed:   16.4s finished\n"
     ]
    }
   ],
   "source": [
    "if __name__ == '__main__':\n",
    "    \n",
    "    links = ['https://health.usnews.com' + do.get('href', None) for do in doc]\n",
    "    r = Parallel(n_jobs=1, verbose=1)(delayed(extract_data)(link) for link in (links))\n",
    "    "
   ]
  },
  {
   "cell_type": "code",
   "execution_count": 54,
   "metadata": {},
   "outputs": [
    {
     "data": {
      "text/plain": [
       "[{'Name': 'Dr. Tajwar Aamir MD',\n",
       "  'Specialised and Location': 'Pediatrics, Princeton, NJ'},\n",
       " {'Name': 'Dr. Tajwar Aamir MD',\n",
       "  'Specialised and Location': 'Pediatrics, Princeton, NJ'},\n",
       " {'Name': 'Dr. Tajwar Aamir MD',\n",
       "  'Specialised and Location': 'Pediatrics, Princeton, NJ'},\n",
       " {'Name': 'Dr. Tajwar Aamir MD',\n",
       "  'Specialised and Location': 'Pediatrics, Princeton, NJ'},\n",
       " {'Name': 'Dr. Tajwar Aamir MD',\n",
       "  'Specialised and Location': 'Pediatrics, Princeton, NJ'},\n",
       " {'Name': 'Dr. Tajwar Aamir MD',\n",
       "  'Specialised and Location': 'Pediatrics, Princeton, NJ'},\n",
       " {'Name': 'Dr. Tajwar Aamir MD',\n",
       "  'Specialised and Location': 'Pediatrics, Princeton, NJ'},\n",
       " {'Name': 'Dr. Tajwar Aamir MD',\n",
       "  'Specialised and Location': 'Pediatrics, Princeton, NJ'},\n",
       " {'Name': 'Dr. Tajwar Aamir MD',\n",
       "  'Specialised and Location': 'Pediatrics, Princeton, NJ'},\n",
       " {'Name': 'Dr. Tajwar Aamir MD',\n",
       "  'Specialised and Location': 'Pediatrics, Princeton, NJ'},\n",
       " {'Name': 'Dr. Tajwar Aamir MD',\n",
       "  'Specialised and Location': 'Pediatrics, Princeton, NJ'},\n",
       " {'Name': 'Dr. Tajwar Aamir MD',\n",
       "  'Specialised and Location': 'Pediatrics, Princeton, NJ'},\n",
       " {'Name': 'Dr. Tajwar Aamir MD',\n",
       "  'Specialised and Location': 'Pediatrics, Princeton, NJ'},\n",
       " {'Name': 'Dr. Tajwar Aamir MD',\n",
       "  'Specialised and Location': 'Pediatrics, Princeton, NJ'},\n",
       " {'Name': 'Dr. Tajwar Aamir MD',\n",
       "  'Specialised and Location': 'Pediatrics, Princeton, NJ'},\n",
       " {'Name': 'Dr. Tajwar Aamir MD',\n",
       "  'Specialised and Location': 'Pediatrics, Princeton, NJ'},\n",
       " {'Name': 'Dr. Tajwar Aamir MD',\n",
       "  'Specialised and Location': 'Pediatrics, Princeton, NJ'},\n",
       " {'Name': 'Dr. Tajwar Aamir MD',\n",
       "  'Specialised and Location': 'Pediatrics, Princeton, NJ'},\n",
       " {'Name': 'Dr. Tajwar Aamir MD',\n",
       "  'Specialised and Location': 'Pediatrics, Princeton, NJ'},\n",
       " {'Name': 'Dr. Tajwar Aamir MD',\n",
       "  'Specialised and Location': 'Pediatrics, Princeton, NJ'}]"
      ]
     },
     "execution_count": 54,
     "metadata": {},
     "output_type": "execute_result"
    }
   ],
   "source": [
    "r"
   ]
  },
  {
   "cell_type": "code",
   "execution_count": 55,
   "metadata": {},
   "outputs": [],
   "source": [
    "import pandas as pd"
   ]
  },
  {
   "cell_type": "code",
   "execution_count": 56,
   "metadata": {},
   "outputs": [],
   "source": [
    "df = pd.DataFrame(r)"
   ]
  },
  {
   "cell_type": "code",
   "execution_count": 57,
   "metadata": {},
   "outputs": [
    {
     "data": {
      "text/html": [
       "<div>\n",
       "<style scoped>\n",
       "    .dataframe tbody tr th:only-of-type {\n",
       "        vertical-align: middle;\n",
       "    }\n",
       "\n",
       "    .dataframe tbody tr th {\n",
       "        vertical-align: top;\n",
       "    }\n",
       "\n",
       "    .dataframe thead th {\n",
       "        text-align: right;\n",
       "    }\n",
       "</style>\n",
       "<table border=\"1\" class=\"dataframe\">\n",
       "  <thead>\n",
       "    <tr style=\"text-align: right;\">\n",
       "      <th></th>\n",
       "      <th>Name</th>\n",
       "      <th>Specialised and Location</th>\n",
       "    </tr>\n",
       "  </thead>\n",
       "  <tbody>\n",
       "    <tr>\n",
       "      <th>0</th>\n",
       "      <td>Dr. Tajwar Aamir MD</td>\n",
       "      <td>Pediatrics, Princeton, NJ</td>\n",
       "    </tr>\n",
       "    <tr>\n",
       "      <th>1</th>\n",
       "      <td>Dr. Tajwar Aamir MD</td>\n",
       "      <td>Pediatrics, Princeton, NJ</td>\n",
       "    </tr>\n",
       "    <tr>\n",
       "      <th>2</th>\n",
       "      <td>Dr. Tajwar Aamir MD</td>\n",
       "      <td>Pediatrics, Princeton, NJ</td>\n",
       "    </tr>\n",
       "    <tr>\n",
       "      <th>3</th>\n",
       "      <td>Dr. Tajwar Aamir MD</td>\n",
       "      <td>Pediatrics, Princeton, NJ</td>\n",
       "    </tr>\n",
       "    <tr>\n",
       "      <th>4</th>\n",
       "      <td>Dr. Tajwar Aamir MD</td>\n",
       "      <td>Pediatrics, Princeton, NJ</td>\n",
       "    </tr>\n",
       "    <tr>\n",
       "      <th>5</th>\n",
       "      <td>Dr. Tajwar Aamir MD</td>\n",
       "      <td>Pediatrics, Princeton, NJ</td>\n",
       "    </tr>\n",
       "    <tr>\n",
       "      <th>6</th>\n",
       "      <td>Dr. Tajwar Aamir MD</td>\n",
       "      <td>Pediatrics, Princeton, NJ</td>\n",
       "    </tr>\n",
       "    <tr>\n",
       "      <th>7</th>\n",
       "      <td>Dr. Tajwar Aamir MD</td>\n",
       "      <td>Pediatrics, Princeton, NJ</td>\n",
       "    </tr>\n",
       "    <tr>\n",
       "      <th>8</th>\n",
       "      <td>Dr. Tajwar Aamir MD</td>\n",
       "      <td>Pediatrics, Princeton, NJ</td>\n",
       "    </tr>\n",
       "    <tr>\n",
       "      <th>9</th>\n",
       "      <td>Dr. Tajwar Aamir MD</td>\n",
       "      <td>Pediatrics, Princeton, NJ</td>\n",
       "    </tr>\n",
       "    <tr>\n",
       "      <th>10</th>\n",
       "      <td>Dr. Tajwar Aamir MD</td>\n",
       "      <td>Pediatrics, Princeton, NJ</td>\n",
       "    </tr>\n",
       "    <tr>\n",
       "      <th>11</th>\n",
       "      <td>Dr. Tajwar Aamir MD</td>\n",
       "      <td>Pediatrics, Princeton, NJ</td>\n",
       "    </tr>\n",
       "    <tr>\n",
       "      <th>12</th>\n",
       "      <td>Dr. Tajwar Aamir MD</td>\n",
       "      <td>Pediatrics, Princeton, NJ</td>\n",
       "    </tr>\n",
       "    <tr>\n",
       "      <th>13</th>\n",
       "      <td>Dr. Tajwar Aamir MD</td>\n",
       "      <td>Pediatrics, Princeton, NJ</td>\n",
       "    </tr>\n",
       "    <tr>\n",
       "      <th>14</th>\n",
       "      <td>Dr. Tajwar Aamir MD</td>\n",
       "      <td>Pediatrics, Princeton, NJ</td>\n",
       "    </tr>\n",
       "    <tr>\n",
       "      <th>15</th>\n",
       "      <td>Dr. Tajwar Aamir MD</td>\n",
       "      <td>Pediatrics, Princeton, NJ</td>\n",
       "    </tr>\n",
       "    <tr>\n",
       "      <th>16</th>\n",
       "      <td>Dr. Tajwar Aamir MD</td>\n",
       "      <td>Pediatrics, Princeton, NJ</td>\n",
       "    </tr>\n",
       "    <tr>\n",
       "      <th>17</th>\n",
       "      <td>Dr. Tajwar Aamir MD</td>\n",
       "      <td>Pediatrics, Princeton, NJ</td>\n",
       "    </tr>\n",
       "    <tr>\n",
       "      <th>18</th>\n",
       "      <td>Dr. Tajwar Aamir MD</td>\n",
       "      <td>Pediatrics, Princeton, NJ</td>\n",
       "    </tr>\n",
       "    <tr>\n",
       "      <th>19</th>\n",
       "      <td>Dr. Tajwar Aamir MD</td>\n",
       "      <td>Pediatrics, Princeton, NJ</td>\n",
       "    </tr>\n",
       "  </tbody>\n",
       "</table>\n",
       "</div>"
      ],
      "text/plain": [
       "                   Name   Specialised and Location\n",
       "0   Dr. Tajwar Aamir MD  Pediatrics, Princeton, NJ\n",
       "1   Dr. Tajwar Aamir MD  Pediatrics, Princeton, NJ\n",
       "2   Dr. Tajwar Aamir MD  Pediatrics, Princeton, NJ\n",
       "3   Dr. Tajwar Aamir MD  Pediatrics, Princeton, NJ\n",
       "4   Dr. Tajwar Aamir MD  Pediatrics, Princeton, NJ\n",
       "5   Dr. Tajwar Aamir MD  Pediatrics, Princeton, NJ\n",
       "6   Dr. Tajwar Aamir MD  Pediatrics, Princeton, NJ\n",
       "7   Dr. Tajwar Aamir MD  Pediatrics, Princeton, NJ\n",
       "8   Dr. Tajwar Aamir MD  Pediatrics, Princeton, NJ\n",
       "9   Dr. Tajwar Aamir MD  Pediatrics, Princeton, NJ\n",
       "10  Dr. Tajwar Aamir MD  Pediatrics, Princeton, NJ\n",
       "11  Dr. Tajwar Aamir MD  Pediatrics, Princeton, NJ\n",
       "12  Dr. Tajwar Aamir MD  Pediatrics, Princeton, NJ\n",
       "13  Dr. Tajwar Aamir MD  Pediatrics, Princeton, NJ\n",
       "14  Dr. Tajwar Aamir MD  Pediatrics, Princeton, NJ\n",
       "15  Dr. Tajwar Aamir MD  Pediatrics, Princeton, NJ\n",
       "16  Dr. Tajwar Aamir MD  Pediatrics, Princeton, NJ\n",
       "17  Dr. Tajwar Aamir MD  Pediatrics, Princeton, NJ\n",
       "18  Dr. Tajwar Aamir MD  Pediatrics, Princeton, NJ\n",
       "19  Dr. Tajwar Aamir MD  Pediatrics, Princeton, NJ"
      ]
     },
     "execution_count": 57,
     "metadata": {},
     "output_type": "execute_result"
    }
   ],
   "source": [
    "df"
   ]
  },
  {
   "cell_type": "code",
   "execution_count": null,
   "metadata": {},
   "outputs": [],
   "source": []
  }
 ],
 "metadata": {
  "kernelspec": {
   "display_name": "Python 3",
   "language": "python",
   "name": "python3"
  },
  "language_info": {
   "codemirror_mode": {
    "name": "ipython",
    "version": 3
   },
   "file_extension": ".py",
   "mimetype": "text/x-python",
   "name": "python",
   "nbconvert_exporter": "python",
   "pygments_lexer": "ipython3",
   "version": "3.6.4"
  }
 },
 "nbformat": 4,
 "nbformat_minor": 2
}

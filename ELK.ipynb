{
 "cells": [
  {
   "cell_type": "code",
   "execution_count": 35,
   "metadata": {},
   "outputs": [],
   "source": [
    "r = [{'Name': 'Dr. Tajwar Aamir MD',\n",
    "  'Specialised and Location': 'Pediatrics, Princeton, NJ'},\n",
    " {'Name': 'Dr. Bernard Aaron', 'Specialised and Location': 'Health'},\n",
    " {'Name': 'Dr. Joseph Aaron MD',\n",
    "  'Specialised and Location': 'Internal Medicine, Short Hills, NJ'},\n",
    " {'Name': 'Dr. Michael Aaron DO',\n",
    "  'Specialised and Location': 'Cardiology, Neptune, NJ'},\n",
    " {'Name': 'Dr. Darryl Aarons DO',\n",
    "  'Specialised and Location': 'Family Medicine, Brigantine, NJ'},\n",
    " {'Name': 'Dr. William Aarons MD',\n",
    "  'Specialised and Location': 'Surgery, Atlantic City, NJ'},\n",
    " {'Name': 'Dr. Sirike Aasmaa DO',\n",
    "  'Specialised and Location': 'Internal Medicine, Montville, NJ'},\n",
    " {'Name': 'Dr. Mario Abad MD',\n",
    "  'Specialised and Location': 'Internal Medicine, Hamilton Square, NJ'},\n",
    " {'Name': 'Dr. Bilal Abadi MD',\n",
    "  'Specialised and Location': 'Other MD/DO, Newark, NJ'},\n",
    " {'Name': 'Dr. Nelly Abadir MD',\n",
    "  'Specialised and Location': 'Anesthesiology, Milltown, NJ'},\n",
    " {'Name': 'Dr. Esmeralda Abano-Mendoza MD',\n",
    "  'Specialised and Location': 'Obstetrics & Gynecology, Jersey City, NJ'},\n",
    " {'Name': 'Dr. Antonio Abary MD',\n",
    "  'Specialised and Location': 'Family Medicine, Trenton, NJ'},\n",
    " {'Name': 'Dr. Nicole Abate MD',\n",
    "  'Specialised and Location': 'Critical Care Medicine, Moorestown, NJ'},\n",
    " {'Name': 'Dr. Holly Abate Bersalona MD',\n",
    "  'Specialised and Location': 'Internal Medicine, Sea Girt, NJ'},\n",
    " {'Name': 'Dr. Muhammad Abbas MD',\n",
    "  'Specialised and Location': 'Psychiatry, Neptune, NJ'},\n",
    " {'Name': 'Dr. Shahida Abbas MD',\n",
    "  'Specialised and Location': 'Internal Medicine, Old Bridge, NJ'},\n",
    " {'Name': 'Dr. Arshia Abbasi MD',\n",
    "  'Specialised and Location': 'Nephrology, Brick, NJ'},\n",
    " {'Name': 'Dr. Faheem Abbasi MD',\n",
    "  'Specialised and Location': 'Physical Medicine & Rehabilitation, North Brunswick, NJ'},\n",
    " {'Name': 'Dr. Muhammad Abbasi MD',\n",
    "  'Specialised and Location': 'Oncology, Mountain Lakes, NJ'},\n",
    " {'Name': 'Dr. Muhammad Rashid Abbasi MD',\n",
    "  'Specialised and Location': 'Oncology, Mountain Lakes, NJ'}]"
   ]
  },
  {
   "cell_type": "code",
   "execution_count": 37,
   "metadata": {},
   "outputs": [],
   "source": [
    "from elasticsearch import Elasticsearch"
   ]
  },
  {
   "cell_type": "code",
   "execution_count": 38,
   "metadata": {},
   "outputs": [],
   "source": [
    "es = Elasticsearch()"
   ]
  },
  {
   "cell_type": "code",
   "execution_count": 44,
   "metadata": {},
   "outputs": [
    {
     "data": {
      "text/plain": [
       "{'cluster_name': 'elasticsearch',\n",
       " 'status': 'yellow',\n",
       " 'timed_out': False,\n",
       " 'number_of_nodes': 1,\n",
       " 'number_of_data_nodes': 1,\n",
       " 'active_primary_shards': 5,\n",
       " 'active_shards': 5,\n",
       " 'relocating_shards': 0,\n",
       " 'initializing_shards': 0,\n",
       " 'unassigned_shards': 5,\n",
       " 'delayed_unassigned_shards': 0,\n",
       " 'number_of_pending_tasks': 0,\n",
       " 'number_of_in_flight_fetch': 0,\n",
       " 'task_max_waiting_in_queue_millis': 0,\n",
       " 'active_shards_percent_as_number': 50.0}"
      ]
     },
     "execution_count": 44,
     "metadata": {},
     "output_type": "execute_result"
    }
   ],
   "source": [
    "es.cluster.health()"
   ]
  },
  {
   "cell_type": "code",
   "execution_count": 45,
   "metadata": {},
   "outputs": [
    {
     "data": {
      "text/plain": [
       "{'acknowledged': True, 'shards_acknowledged': True, 'index': 'my-index'}"
      ]
     },
     "execution_count": 45,
     "metadata": {},
     "output_type": "execute_result"
    }
   ],
   "source": [
    "es.indices.create(index='my-index', ignore=400)"
   ]
  },
  {
   "cell_type": "code",
   "execution_count": 52,
   "metadata": {},
   "outputs": [],
   "source": [
    "for e in enumerate(r):\n",
    "     es.index(index=\"my-index\", doc_type=\"test-type\", id=e[0], body=e[1])\n"
   ]
  },
  {
   "cell_type": "code",
   "execution_count": 54,
   "metadata": {},
   "outputs": [
    {
     "data": {
      "text/plain": [
       "{'my-index': {'mappings': {'test-type': {'properties': {'Name': {'type': 'text',\n",
       "      'fields': {'keyword': {'type': 'keyword', 'ignore_above': 256}}},\n",
       "     'Specialised and Location': {'type': 'text',\n",
       "      'fields': {'keyword': {'type': 'keyword', 'ignore_above': 256}}}}}}}}"
      ]
     },
     "execution_count": 54,
     "metadata": {},
     "output_type": "execute_result"
    }
   ],
   "source": [
    "es.indices.get_mapping('my-index')"
   ]
  },
  {
   "cell_type": "code",
   "execution_count": 58,
   "metadata": {},
   "outputs": [
    {
     "data": {
      "text/plain": [
       "[{'_index': 'my-index',\n",
       "  '_type': 'test-type',\n",
       "  '_id': '0',\n",
       "  '_score': 1.0,\n",
       "  '_source': {'Name': 'Dr. Tajwar Aamir MD',\n",
       "   'Specialised and Location': 'Pediatrics, Princeton, NJ'}},\n",
       " {'_index': 'my-index',\n",
       "  '_type': 'test-type',\n",
       "  '_id': '14',\n",
       "  '_score': 1.0,\n",
       "  '_source': {'Name': 'Dr. Muhammad Abbas MD',\n",
       "   'Specialised and Location': 'Psychiatry, Neptune, NJ'}},\n",
       " {'_index': 'my-index',\n",
       "  '_type': 'test-type',\n",
       "  '_id': '19',\n",
       "  '_score': 1.0,\n",
       "  '_source': {'Name': 'Dr. Muhammad Rashid Abbasi MD',\n",
       "   'Specialised and Location': 'Oncology, Mountain Lakes, NJ'}},\n",
       " {'_index': 'my-index',\n",
       "  '_type': 'test-type',\n",
       "  '_id': '5',\n",
       "  '_score': 1.0,\n",
       "  '_source': {'Name': 'Dr. William Aarons MD',\n",
       "   'Specialised and Location': 'Surgery, Atlantic City, NJ'}},\n",
       " {'_index': 'my-index',\n",
       "  '_type': 'test-type',\n",
       "  '_id': '8',\n",
       "  '_score': 1.0,\n",
       "  '_source': {'Name': 'Dr. Bilal Abadi MD',\n",
       "   'Specialised and Location': 'Other MD/DO, Newark, NJ'}},\n",
       " {'_index': 'my-index',\n",
       "  '_type': 'test-type',\n",
       "  '_id': '9',\n",
       "  '_score': 1.0,\n",
       "  '_source': {'Name': 'Dr. Nelly Abadir MD',\n",
       "   'Specialised and Location': 'Anesthesiology, Milltown, NJ'}},\n",
       " {'_index': 'my-index',\n",
       "  '_type': 'test-type',\n",
       "  '_id': '10',\n",
       "  '_score': 1.0,\n",
       "  '_source': {'Name': 'Dr. Esmeralda Abano-Mendoza MD',\n",
       "   'Specialised and Location': 'Obstetrics & Gynecology, Jersey City, NJ'}},\n",
       " {'_index': 'my-index',\n",
       "  '_type': 'test-type',\n",
       "  '_id': '12',\n",
       "  '_score': 1.0,\n",
       "  '_source': {'Name': 'Dr. Nicole Abate MD',\n",
       "   'Specialised and Location': 'Critical Care Medicine, Moorestown, NJ'}},\n",
       " {'_index': 'my-index',\n",
       "  '_type': 'test-type',\n",
       "  '_id': '2',\n",
       "  '_score': 1.0,\n",
       "  '_source': {'Name': 'Dr. Joseph Aaron MD',\n",
       "   'Specialised and Location': 'Internal Medicine, Short Hills, NJ'}},\n",
       " {'_index': 'my-index',\n",
       "  '_type': 'test-type',\n",
       "  '_id': '4',\n",
       "  '_score': 1.0,\n",
       "  '_source': {'Name': 'Dr. Darryl Aarons DO',\n",
       "   'Specialised and Location': 'Family Medicine, Brigantine, NJ'}}]"
      ]
     },
     "execution_count": 58,
     "metadata": {},
     "output_type": "execute_result"
    }
   ],
   "source": [
    "es.search(index = 'my-index')['hits']['hits']"
   ]
  },
  {
   "cell_type": "code",
   "execution_count": null,
   "metadata": {},
   "outputs": [],
   "source": []
  }
 ],
 "metadata": {
  "kernelspec": {
   "display_name": "Python 3",
   "language": "python",
   "name": "python3"
  },
  "language_info": {
   "codemirror_mode": {
    "name": "ipython",
    "version": 3
   },
   "file_extension": ".py",
   "mimetype": "text/x-python",
   "name": "python",
   "nbconvert_exporter": "python",
   "pygments_lexer": "ipython3",
   "version": "3.6.5"
  }
 },
 "nbformat": 4,
 "nbformat_minor": 2
}

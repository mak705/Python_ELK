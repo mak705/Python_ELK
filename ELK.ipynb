{
 "cells": [
  {
   "cell_type": "code",
   "execution_count": 35,
   "metadata": {},
   "outputs": [],
   "source": [
    "r = [{'Name': 'Dr. Tajwar Aamir MD',\n",
    "  'Specialised and Location': 'Pediatrics, Princeton, NJ'},\n",
    " {'Name': 'Dr. Bernard Aaron', 'Specialised and Location': 'Health'},\n",
    " {'Name': 'Dr. Joseph Aaron MD',\n",
    "  'Specialised and Location': 'Internal Medicine, Short Hills, NJ'},\n",
    " {'Name': 'Dr. Michael Aaron DO',\n",
    "  'Specialised and Location': 'Cardiology, Neptune, NJ'},\n",
    " {'Name': 'Dr. Darryl Aarons DO',\n",
    "  'Specialised and Location': 'Family Medicine, Brigantine, NJ'},\n",
    " {'Name': 'Dr. William Aarons MD',\n",
    "  'Specialised and Location': 'Surgery, Atlantic City, NJ'},\n",
    " {'Name': 'Dr. Sirike Aasmaa DO',\n",
    "  'Specialised and Location': 'Internal Medicine, Montville, NJ'},\n",
    " {'Name': 'Dr. Mario Abad MD',\n",
    "  'Specialised and Location': 'Internal Medicine, Hamilton Square, NJ'},\n",
    " {'Name': 'Dr. Bilal Abadi MD',\n",
    "  'Specialised and Location': 'Other MD/DO, Newark, NJ'},\n",
    " {'Name': 'Dr. Nelly Abadir MD',\n",
    "  'Specialised and Location': 'Anesthesiology, Milltown, NJ'},\n",
    " {'Name': 'Dr. Esmeralda Abano-Mendoza MD',\n",
    "  'Specialised and Location': 'Obstetrics & Gynecology, Jersey City, NJ'},\n",
    " {'Name': 'Dr. Antonio Abary MD',\n",
    "  'Specialised and Location': 'Family Medicine, Trenton, NJ'},\n",
    " {'Name': 'Dr. Nicole Abate MD',\n",
    "  'Specialised and Location': 'Critical Care Medicine, Moorestown, NJ'},\n",
    " {'Name': 'Dr. Holly Abate Bersalona MD',\n",
    "  'Specialised and Location': 'Internal Medicine, Sea Girt, NJ'},\n",
    " {'Name': 'Dr. Muhammad Abbas MD',\n",
    "  'Specialised and Location': 'Psychiatry, Neptune, NJ'},\n",
    " {'Name': 'Dr. Shahida Abbas MD',\n",
    "  'Specialised and Location': 'Internal Medicine, Old Bridge, NJ'},\n",
    " {'Name': 'Dr. Arshia Abbasi MD',\n",
    "  'Specialised and Location': 'Nephrology, Brick, NJ'},\n",
    " {'Name': 'Dr. Faheem Abbasi MD',\n",
    "  'Specialised and Location': 'Physical Medicine & Rehabilitation, North Brunswick, NJ'},\n",
    " {'Name': 'Dr. Muhammad Abbasi MD',\n",
    "  'Specialised and Location': 'Oncology, Mountain Lakes, NJ'},\n",
    " {'Name': 'Dr. Muhammad Rashid Abbasi MD',\n",
    "  'Specialised and Location': 'Oncology, Mountain Lakes, NJ'}]"
   ]
  },
  {
   "cell_type": "code",
   "execution_count": 37,
   "metadata": {},
   "outputs": [],
   "source": [
    "from elasticsearch import Elasticsearch"
   ]
  },
  {
   "cell_type": "code",
   "execution_count": 38,
   "metadata": {},
   "outputs": [],
   "source": [
    "es = Elasticsearch()"
   ]
  },
  {
   "cell_type": "code",
   "execution_count": 44,
   "metadata": {},
   "outputs": [
    {
     "data": {
      "text/plain": [
       "{'cluster_name': 'elasticsearch',\n",
       " 'status': 'yellow',\n",
       " 'timed_out': False,\n",
       " 'number_of_nodes': 1,\n",
       " 'number_of_data_nodes': 1,\n",
       " 'active_primary_shards': 5,\n",
       " 'active_shards': 5,\n",
       " 'relocating_shards': 0,\n",
       " 'initializing_shards': 0,\n",
       " 'unassigned_shards': 5,\n",
       " 'delayed_unassigned_shards': 0,\n",
       " 'number_of_pending_tasks': 0,\n",
       " 'number_of_in_flight_fetch': 0,\n",
       " 'task_max_waiting_in_queue_millis': 0,\n",
       " 'active_shards_percent_as_number': 50.0}"
      ]
     },
     "execution_count": 44,
     "metadata": {},
     "output_type": "execute_result"
    }
   ],
   "source": [
    "es.cluster.health()"
   ]
  },
  {
   "cell_type": "code",
   "execution_count": 45,
   "metadata": {},
   "outputs": [
    {
     "data": {
      "text/plain": [
       "{'acknowledged': True, 'shards_acknowledged': True, 'index': 'my-index'}"
      ]
     },
     "execution_count": 45,
     "metadata": {},
     "output_type": "execute_result"
    }
   ],
   "source": [
    "es.indices.create(index='my-index', ignore=400)"
   ]
  },
  {
   "cell_type": "code",
   "execution_count": 52,
   "metadata": {},
   "outputs": [],
   "source": [
    "for e in enumerate(r):\n",
    "     es.index(index=\"my-index\", doc_type=\"test-type\", id=e[0], body=e[1])\n"
   ]
  },
  {
   "cell_type": "code",
   "execution_count": 54,
   "metadata": {},
   "outputs": [
    {
     "data": {
      "text/plain": [
       "{'my-index': {'mappings': {'test-type': {'properties': {'Name': {'type': 'text',\n",
       "      'fields': {'keyword': {'type': 'keyword', 'ignore_above': 256}}},\n",
       "     'Specialised and Location': {'type': 'text',\n",
       "      'fields': {'keyword': {'type': 'keyword', 'ignore_above': 256}}}}}}}}"
      ]
     },
     "execution_count": 54,
     "metadata": {},
     "output_type": "execute_result"
    }
   ],
   "source": [
    "es.indices.get_mapping('my-index')"
   ]
  },
  {
   "cell_type": "code",
   "execution_count": 58,
   "metadata": {},
   "outputs": [
    {
     "data": {
      "text/plain": [
       "[{'_index': 'my-index',\n",
       "  '_type': 'test-type',\n",
       "  '_id': '0',\n",
       "  '_score': 1.0,\n",
       "  '_source': {'Name': 'Dr. Tajwar Aamir MD',\n",
       "   'Specialised and Location': 'Pediatrics, Princeton, NJ'}},\n",
       " {'_index': 'my-index',\n",
       "  '_type': 'test-type',\n",
       "  '_id': '14',\n",
       "  '_score': 1.0,\n",
       "  '_source': {'Name': 'Dr. Muhammad Abbas MD',\n",
       "   'Specialised and Location': 'Psychiatry, Neptune, NJ'}},\n",
       " {'_index': 'my-index',\n",
       "  '_type': 'test-type',\n",
       "  '_id': '19',\n",
       "  '_score': 1.0,\n",
       "  '_source': {'Name': 'Dr. Muhammad Rashid Abbasi MD',\n",
       "   'Specialised and Location': 'Oncology, Mountain Lakes, NJ'}},\n",
       " {'_index': 'my-index',\n",
       "  '_type': 'test-type',\n",
       "  '_id': '5',\n",
       "  '_score': 1.0,\n",
       "  '_source': {'Name': 'Dr. William Aarons MD',\n",
       "   'Specialised and Location': 'Surgery, Atlantic City, NJ'}},\n",
       " {'_index': 'my-index',\n",
       "  '_type': 'test-type',\n",
       "  '_id': '8',\n",
       "  '_score': 1.0,\n",
       "  '_source': {'Name': 'Dr. Bilal Abadi MD',\n",
       "   'Specialised and Location': 'Other MD/DO, Newark, NJ'}},\n",
       " {'_index': 'my-index',\n",
       "  '_type': 'test-type',\n",
       "  '_id': '9',\n",
       "  '_score': 1.0,\n",
       "  '_source': {'Name': 'Dr. Nelly Abadir MD',\n",
       "   'Specialised and Location': 'Anesthesiology, Milltown, NJ'}},\n",
       " {'_index': 'my-index',\n",
       "  '_type': 'test-type',\n",
       "  '_id': '10',\n",
       "  '_score': 1.0,\n",
       "  '_source': {'Name': 'Dr. Esmeralda Abano-Mendoza MD',\n",
       "   'Specialised and Location': 'Obstetrics & Gynecology, Jersey City, NJ'}},\n",
       " {'_index': 'my-index',\n",
       "  '_type': 'test-type',\n",
       "  '_id': '12',\n",
       "  '_score': 1.0,\n",
       "  '_source': {'Name': 'Dr. Nicole Abate MD',\n",
       "   'Specialised and Location': 'Critical Care Medicine, Moorestown, NJ'}},\n",
       " {'_index': 'my-index',\n",
       "  '_type': 'test-type',\n",
       "  '_id': '2',\n",
       "  '_score': 1.0,\n",
       "  '_source': {'Name': 'Dr. Joseph Aaron MD',\n",
       "   'Specialised and Location': 'Internal Medicine, Short Hills, NJ'}},\n",
       " {'_index': 'my-index',\n",
       "  '_type': 'test-type',\n",
       "  '_id': '4',\n",
       "  '_score': 1.0,\n",
       "  '_source': {'Name': 'Dr. Darryl Aarons DO',\n",
       "   'Specialised and Location': 'Family Medicine, Brigantine, NJ'}}]"
      ]
     },
     "execution_count": 58,
     "metadata": {},
     "output_type": "execute_result"
    }
   ],
   "source": [
    "es.search(index = 'my-index')['hits']['hits']"
   ]
  },

  {
   "cell_type": "code",
   "execution_count": 3,
   "metadata": {},
   "outputs": [
    {
     "name": "stdout",
     "output_type": "stream",
     "text": [
      "3\n",
      "5\n",
      "7\n",
      "9\n"
     ]
    }
   ],
   "source": [
    "oddNumbers(2,10)"
   ]
  },
  {
   "cell_type": "code",
   "execution_count": 27,
   "metadata": {},
   "outputs": [],
   "source": [
    "import math\n",
    "def distance(a, b):\n",
    "    if (a == b):\n",
    "        return 0\n",
    "    elif (a < 0) and (b < 0) or (a > 0) and (b > 0):\n",
    "        if (a < b):\n",
    "            return (abs(abs(a) - abs(b)))\n",
    "        else:\n",
    "            return -(abs(abs(a) - abs(b)))\n",
    "    else:\n",
    "        return math.copysign((abs(a) + abs(b)),b)"
   ]
  },
  {
   "cell_type": "code",
   "execution_count": 29,
   "metadata": {},
   "outputs": [
    {
     "name": "stdout",
     "output_type": "stream",
     "text": [
      "198\n"
     ]
    }
   ],
   "source": [
    "print(distance(123,321)) "
   ]
  },
  {
   "cell_type": "code",
   "execution_count": 86,
   "metadata": {},
   "outputs": [],
   "source": [
    "def distance(a, b):\n",
    "    l= list(map(int,str(a)))\n",
    "    m = list(map(int,str(b)))\n",
    "    counter = 0\n",
    "    i=0\n",
    "    while i == len(l):\n",
    "        if l[i] < m[i] :\n",
    "            counter + 1\n",
    "        if l[i] > m[i] :\n",
    "            counter - 1\n",
    "        counter + 1\n",
    "        i + 1\n",
    "        break\n",
    "    return counter\n",
    "    "
   ]
  },
  {
   "cell_type": "code",
   "execution_count": 87,
   "metadata": {},
   "outputs": [
    {
     "data": {
      "text/plain": [
       "0"
      ]
     },
     "execution_count": 87,
     "metadata": {},
     "output_type": "execute_result"
    }
   ],
   "source": [
    "distance(12,54)"
   ]
  },
  {
   "cell_type": "code",
   "execution_count": 88,
   "metadata": {},
   "outputs": [],
   "source": [
    "l = [2,3,4,5,2]"
   ]
  },
  {
   "cell_type": "code",
   "execution_count": 89,
   "metadata": {},
   "outputs": [
    {
     "data": {
      "text/plain": [
       "[2, 2, 3, 4, 5]"
      ]
     },
     "execution_count": 89,
     "metadata": {},
     "output_type": "execute_result"
    }
   ],
   "source": [
    "sorted(l)"
   ]
  },
  {
   "cell_type": "code",
   "execution_count": 93,
   "metadata": {},
   "outputs": [
    {
     "data": {
      "text/plain": [
       "26"
      ]
     },
     "execution_count": 93,
     "metadata": {},
     "output_type": "execute_result"
    }
   ],
   "source": [
    "def minSum(arr): \n",
    "    sm = arr[0] \n",
    "    n = len(arr)\n",
    "    for i in range(1, n): \n",
    "        if arr[i] == arr[i - 1]:\n",
    "\n",
    "            j = i \n",
    "            while j < n and arr[j] <= arr[j - 1]:\n",
    "                arr[j] = arr[j] + 2\n",
    "                j += 1\n",
    "\n",
    "        sm = sm + arr[i] \n",
    "\n",
    "    return sm \n",
    "\n",
    "# Driver code \n",
    "arr = [ 2, 2, 3, 5, 6 ] \n",
    "minSum(arr)"
   ]
  },
  {
   "cell_type": "code",
   "execution_count": 115,
   "metadata": {},
   "outputs": [],
   "source": [
    "r = r = [{'Name': 'Dr. Tajwar Aamir MD',\n",
    "  'Specialised and Location': 'Pediatrics, Princeton, NJ'},\n",
    " {'Name': 'Dr. Bernard Aaron', 'Specialised and Location': 'Health'},\n",
    " {'Name': 'Dr. Joseph Aaron MD',\n",
    "  'Specialised and Location': 'Internal Medicine, Short Hills, NJ'},\n",
    " {'Name': 'Dr. Michael Aaron DO',\n",
    "  'Specialised and Location': 'Cardiology, Neptune, NJ'},\n",
    " {'Name': 'Dr. Darryl Aarons DO',\n",
    "  'Specialised and Location': 'Family Medicine, Brigantine, NJ'},\n",
    " {'Name': 'Dr. William Aarons MD',\n",
    "  'Specialised and Location': 'Surgery, Atlantic City, NJ'},\n",
    " {'Name': 'Dr. Sirike Aasmaa DO',\n",
    "  'Specialised and Location': 'Internal Medicine, Montville, NJ'},\n",
    " {'Name': 'Dr. Mario Abad MD',\n",
    "  'Specialised and Location': 'Internal Medicine, Hamilton Square, NJ'},\n",
    " {'Name': 'Dr. Bilal Abadi MD',\n",
    "  'Specialised and Location': 'Other MD/DO, Newark, NJ'},\n",
    " {'Name': 'Dr. Nelly Abadir MD',\n",
    "  'Specialised and Location': 'Anesthesiology, Milltown, NJ'},\n",
    " {'Name': 'Dr. Esmeralda Abano-Mendoza MD',\n",
    "  'Specialised and Location': 'Obstetrics & Gynecology, Jersey City, NJ'},\n",
    " {'Name': 'Dr. Antonio Abary MD',\n",
    "  'Specialised and Location': 'Family Medicine, Trenton, NJ'},\n",
    " {'Name': 'Dr. Nicole Abate MD',\n",
    "  'Specialised and Location': 'Critical Care Medicine, Moorestown, NJ'},\n",
    " {'Name': 'Dr. Holly Abate Bersalona MD',\n",
    "  'Specialised and Location': 'Internal Medicine, Sea Girt, NJ'},\n",
    " {'Name': 'Dr. Muhammad Abbas MD',\n",
    "  'Specialised and Location': 'Psychiatry, Neptune, NJ'},\n",
    " {'Name': 'Dr. Shahida Abbas MD',\n",
    "  'Specialised and Location': 'Internal Medicine, Old Bridge, NJ'},\n",
    " {'Name': 'Dr. Arshia Abbasi MD',\n",
    "  'Specialised and Location': 'Nephrology, Brick, NJ'},\n",
    " {'Name': 'Dr. Faheem Abbasi MD',\n",
    "  'Specialised and Location': 'Physical Medicine & Rehabilitation, North Brunswick, NJ'},\n",
    " {'Name': 'Dr. Muhammad Abbasi MD',\n",
    "  'Specialised and Location': 'Oncology, Mountain Lakes, NJ'},\n",
    " {'Name': 'Dr. Muhammad Rashid Abbasi MD',\n",
    "  'Specialised and Location': 'Oncology, Mountain Lakes, NJ'}]"
   ]
  },
  {
   "cell_type": "code",
   "execution_count": 116,
   "metadata": {},
   "outputs": [],
   "source": [
    "from elasticsearch import Elasticsearch"
   ]
  },
  {
   "cell_type": "code",
   "execution_count": 117,
   "metadata": {},
   "outputs": [],
   "source": [
    "es = Elasticsearch()"
   ]
  },
  {
   "cell_type": "code",
   "execution_count": 119,
   "metadata": {},
   "outputs": [
    {
     "data": {
      "text/plain": [
       "{'active_primary_shards': 0,\n",
       " 'active_shards': 0,\n",
       " 'active_shards_percent_as_number': 0.0,\n",
       " 'cluster_name': 'elasticsearch',\n",
       " 'delayed_unassigned_shards': 0,\n",
       " 'initializing_shards': 4,\n",
       " 'number_of_data_nodes': 1,\n",
       " 'number_of_in_flight_fetch': 0,\n",
       " 'number_of_nodes': 1,\n",
       " 'number_of_pending_tasks': 4,\n",
       " 'relocating_shards': 0,\n",
       " 'status': 'red',\n",
       " 'task_max_waiting_in_queue_millis': 875,\n",
       " 'timed_out': False,\n",
       " 'unassigned_shards': 17}"
      ]
     },
     "execution_count": 119,
     "metadata": {},
     "output_type": "execute_result"
    }
   ],
   "source": [
    "es.cluster.health()"
   ]
  },
  {
   "cell_type": "code",
   "execution_count": 120,
   "metadata": {},
   "outputs": [
    {
     "data": {
      "text/plain": [
       "{'acknowledged': True, 'index': 'my-index', 'shards_acknowledged': True}"
      ]
     },
     "execution_count": 120,
     "metadata": {},
     "output_type": "execute_result"
    }
   ],
   "source": [
    "es.indices.create(index='my-index', ignore=400)"
   ]
  },
  {
   "cell_type": "code",
   "execution_count": 121,
   "metadata": {},
   "outputs": [],
   "source": [
    "for e in enumerate(r):\n",
    "     es.index(index=\"my-index\", doc_type=\"test-type\", id=e[0], body=e[1])"
   ]
  },
  {
   "cell_type": "code",
   "execution_count": 122,
   "metadata": {},
   "outputs": [
    {
     "data": {
      "text/plain": [
       "{'my-index': {'mappings': {'test-type': {'properties': {'Name': {'fields': {'keyword': {'ignore_above': 256,\n",
       "        'type': 'keyword'}},\n",
       "      'type': 'text'},\n",
       "     'Specialised and Location': {'fields': {'keyword': {'ignore_above': 256,\n",
       "        'type': 'keyword'}},\n",
       "      'type': 'text'}}}}}}"
      ]
     },
     "execution_count": 122,
     "metadata": {},
     "output_type": "execute_result"
    }
   ],
   "source": [
    "es.indices.get_mapping('my-index')"
   ]
  },
  {
   "cell_type": "code",
   "execution_count": 123,
   "metadata": {},
   "outputs": [
    {
     "data": {
      "text/plain": [
       "{'my-index': {'settings': {'index': {'creation_date': '1541797908841',\n",
       "    'number_of_replicas': '1',\n",
       "    'number_of_shards': '5',\n",
       "    'provided_name': 'my-index',\n",
       "    'uuid': 'eDJPza9DRbGPYG9kawVI9A',\n",
       "    'version': {'created': '6030299'}}}}}"
      ]
     },
     "execution_count": 123,
     "metadata": {},
     "output_type": "execute_result"
    }
   ],
   "source": [
    "es.indices.get_settings('my-index')"
   ]
  },
  {
   "cell_type": "code",
   "execution_count": 133,
   "metadata": {},
   "outputs": [
    {
     "data": {
      "text/plain": [
       "{'_shards': {'failed': 0, 'skipped': 0, 'successful': 5, 'total': 5},\n",
       " 'hits': {'hits': [{'_id': '0',\n",
       "    '_index': 'my-index',\n",
       "    '_score': 1.0,\n",
       "    '_source': {'Name': 'Dr. Tajwar Aamir MD',\n",
       "     'Specialised and Location': 'Pediatrics, Princeton, NJ'},\n",
       "    '_type': 'test-type'},\n",
       "   {'_id': '14',\n",
       "    '_index': 'my-index',\n",
       "    '_score': 1.0,\n",
       "    '_source': {'Name': 'Dr. Muhammad Abbas MD',\n",
       "     'Specialised and Location': 'Psychiatry, Neptune, NJ'},\n",
       "    '_type': 'test-type'},\n",
       "   {'_id': '19',\n",
       "    '_index': 'my-index',\n",
       "    '_score': 1.0,\n",
       "    '_source': {'Name': 'Dr. Muhammad Rashid Abbasi MD',\n",
       "     'Specialised and Location': 'Oncology, Mountain Lakes, NJ'},\n",
       "    '_type': 'test-type'},\n",
       "   {'_id': '5',\n",
       "    '_index': 'my-index',\n",
       "    '_score': 1.0,\n",
       "    '_source': {'Name': 'Dr. William Aarons MD',\n",
       "     'Specialised and Location': 'Surgery, Atlantic City, NJ'},\n",
       "    '_type': 'test-type'},\n",
       "   {'_id': '8',\n",
       "    '_index': 'my-index',\n",
       "    '_score': 1.0,\n",
       "    '_source': {'Name': 'Dr. Bilal Abadi MD',\n",
       "     'Specialised and Location': 'Other MD/DO, Newark, NJ'},\n",
       "    '_type': 'test-type'},\n",
       "   {'_id': '9',\n",
       "    '_index': 'my-index',\n",
       "    '_score': 1.0,\n",
       "    '_source': {'Name': 'Dr. Nelly Abadir MD',\n",
       "     'Specialised and Location': 'Anesthesiology, Milltown, NJ'},\n",
       "    '_type': 'test-type'},\n",
       "   {'_id': '10',\n",
       "    '_index': 'my-index',\n",
       "    '_score': 1.0,\n",
       "    '_source': {'Name': 'Dr. Esmeralda Abano-Mendoza MD',\n",
       "     'Specialised and Location': 'Obstetrics & Gynecology, Jersey City, NJ'},\n",
       "    '_type': 'test-type'},\n",
       "   {'_id': '12',\n",
       "    '_index': 'my-index',\n",
       "    '_score': 1.0,\n",
       "    '_source': {'Name': 'Dr. Nicole Abate MD',\n",
       "     'Specialised and Location': 'Critical Care Medicine, Moorestown, NJ'},\n",
       "    '_type': 'test-type'},\n",
       "   {'_id': '2',\n",
       "    '_index': 'my-index',\n",
       "    '_score': 1.0,\n",
       "    '_source': {'Name': 'Dr. Joseph Aaron MD',\n",
       "     'Specialised and Location': 'Internal Medicine, Short Hills, NJ'},\n",
       "    '_type': 'test-type'},\n",
       "   {'_id': '4',\n",
       "    '_index': 'my-index',\n",
       "    '_score': 1.0,\n",
       "    '_source': {'Name': 'Dr. Darryl Aarons DO',\n",
       "     'Specialised and Location': 'Family Medicine, Brigantine, NJ'},\n",
       "    '_type': 'test-type'}],\n",
       "  'max_score': 1.0,\n",
       "  'total': 20},\n",
       " 'timed_out': False,\n",
       " 'took': 7}"
      ]
     },
     "execution_count": 133,
     "metadata": {},
     "output_type": "execute_result"
    }
   ],
   "source": [
    "es.search('my-index')"
   ]
  },
  {
   "cell_type": "code",
   "execution_count": 137,
   "metadata": {},
   "outputs": [
    {
     "name": "stdout",
     "output_type": "stream",
     "text": [
      "Got 20 Hits\n"
     ]
    }
   ],
   "source": [
    "search = es.search(index=\"my-index\", body={\"query\": {\"match_all\": {}}})\n",
    "print(\"Got %d Hits\" % search['hits']['total'])"
   ]
  },
  {
   "cell_type": "code",
   "execution_count": 145,
   "metadata": {},
   "outputs": [
    {
     "name": "stdout",
     "output_type": "stream",
     "text": [
      "{'Name': 'Dr. Bernard Aaron', 'Specialised and Location': 'Health'}\n"
     ]
    }
   ],
   "source": [
    "firstdoc = es.get(index=\"my-index\",doc_type=\"test-type\",  id=1)\n",
    "print(firstdoc['_source'])"
   ]
  },
  {
   "cell_type": "code",
   "execution_count": 134,
   "metadata": {},
   "outputs": [
    {
     "name": "stdout",
     "output_type": "stream",
     "text": [
      "created\n",
      "{'author': 'kimchy', 'text': 'Elasticsearch: cool. bonsai cool.', 'timestamp': '2018-11-10T02:47:18.709045'}\n",
      "Got 1 Hits:\n",
      "2018-11-10T02:47:18.709045 kimchy: Elasticsearch: cool. bonsai cool.\n"
     ]
    }
   ],
   "source": [
    "from datetime import datetime\n",
    "from elasticsearch import Elasticsearch\n",
    "es = Elasticsearch()\n",
    "\n",
    "doc = {\n",
    "    'author': 'kimchy',\n",
    "    'text': 'Elasticsearch: cool. bonsai cool.',\n",
    "    'timestamp': datetime.now(),\n",
    "}\n",
    "res = es.index(index=\"test-index\", doc_type='tweet', id=1, body=doc)\n",
    "print(res['result'])\n",
    "\n",
    "res = es.get(index=\"test-index\", doc_type='tweet', id=1)\n",
    "print(res['_source'])\n",
    "\n",
    "es.indices.refresh(index=\"test-index\")\n",
    "\n",
    "res = es.search(index=\"test-index\", body={\"query\": {\"match_all\": {}}})\n",
    "print(\"Got %d Hits:\" % res['hits']['total'])\n",
    "for hit in res['hits']['hits']:\n",
    "    print(\"%(timestamp)s %(author)s: %(text)s\" % hit[\"_source\"])\n"
   ]
  },
  {
   "cell_type": "code",
   "execution_count": 146,
   "metadata": {},
   "outputs": [
    {
     "name": "stdout",
     "output_type": "stream",
     "text": [
      "b'{\\n  \"name\" : \"2mQLJDd\",\\n  \"cluster_name\" : \"elasticsearch\",\\n  \"cluster_uuid\" : \"Vz1pHkmFTAW3Qsfeqq3Bww\",\\n  \"version\" : {\\n    \"number\" : \"6.3.2\",\\n    \"build_flavor\" : \"default\",\\n    \"build_type\" : \"tar\",\\n    \"build_hash\" : \"053779d\",\\n    \"build_date\" : \"2018-07-20T05:20:23.451332Z\",\\n    \"build_snapshot\" : false,\\n    \"lucene_version\" : \"7.3.1\",\\n    \"minimum_wire_compatibility_version\" : \"5.6.0\",\\n    \"minimum_index_compatibility_version\" : \"5.0.0\"\\n  },\\n  \"tagline\" : \"You Know, for Search\"\\n}\\n'\n"
     ]
    }
   ],
   "source": [
    "# make sure ES is up and running\n",
    "import requests\n",
    "res = requests.get('http://localhost:9200')\n",
    "print(res.content)"
   ]
  },

  {
   "cell_type": "code",
   "execution_count": null,
   "metadata": {},
   "outputs": [],
   "source": []
  }
 ],
 "metadata": {
  "kernelspec": {
   "display_name": "Python 3",
   "language": "python",
   "name": "python3"
  },
  "language_info": {
   "codemirror_mode": {
    "name": "ipython",
    "version": 3
   },
   "file_extension": ".py",
   "mimetype": "text/x-python",
   "name": "python",
   "nbconvert_exporter": "python",
   "pygments_lexer": "ipython3",
   "version": "3.6.5"
  }
 },
 "nbformat": 4,
 "nbformat_minor": 2
}
